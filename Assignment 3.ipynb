{
 "cells": [
  {
   "cell_type": "markdown",
   "id": "d006ddf4",
   "metadata": {},
   "source": [
    "\n",
    "# Python Assignment 3"
   ]
  },
  {
   "cell_type": "markdown",
   "id": "b6d6d8f0",
   "metadata": {},
   "source": [
    "# 1. Why are functions advantageous to have in your programs?"
   ]
  },
  {
   "cell_type": "markdown",
   "id": "6cde13a5",
   "metadata": {},
   "source": [
    "1] Functions reduce the need for duplicate code.\n",
    "\n",
    "2] This makes programs shorter, easier to read, and easier to update.\n",
    "\n",
    "3] Functions help organize your code by grouping related operations together. \n",
    "\n",
    "4] The main advantage of functions is code Reusability.\n",
    "\n",
    "5] Functions make it easier to test and debug your code"
   ]
  },
  {
   "cell_type": "markdown",
   "id": "58164a59",
   "metadata": {},
   "source": [
    "# 2. When does the code in a function run: when it is specified or when it is called?"
   ]
  },
  {
   "cell_type": "markdown",
   "id": "677ee15a",
   "metadata": {},
   "source": [
    "The code in a function executes when the function is called, not when the function is specified"
   ]
  },
  {
   "cell_type": "markdown",
   "id": "5ff05737",
   "metadata": {},
   "source": [
    "# 3. What statement creates a function?"
   ]
  },
  {
   "cell_type": "markdown",
   "id": "0df1c99b",
   "metadata": {},
   "source": [
    "The def statement defines a function\n",
    "\n",
    "#Syntax:\n",
    "\n",
    "def function_name:  ... \n",
    " Function body...\n",
    " code statement...\n",
    " return result\n"
   ]
  },
  {
   "cell_type": "markdown",
   "id": "4f0681d0",
   "metadata": {},
   "source": [
    "# 4. What is the difference between a function and a function call?"
   ]
  },
  {
   "cell_type": "markdown",
   "id": "ede0e7f8",
   "metadata": {},
   "source": [
    "A function is a defined block of code that performs a specific task, while a function call is the act of executing or running that function in a program.\n",
    "\n",
    "Simply, A function is a set of instructions that defines a specific task. A function call is when those instructions are executed or \"run\" to perform the task."
   ]
  },
  {
   "cell_type": "markdown",
   "id": "f91c3978",
   "metadata": {},
   "source": [
    "# 5. How many global scopes are there in a Python program? How many local scopes?"
   ]
  },
  {
   "cell_type": "markdown",
   "id": "2b62a9fc",
   "metadata": {},
   "source": [
    "There is one global scope, and a local scope is created whenever a function is called and each function call creates its own local scope"
   ]
  },
  {
   "cell_type": "markdown",
   "id": "c879e363",
   "metadata": {},
   "source": [
    "# 6. What happens to variables in a local scope when the function call returns?"
   ]
  },
  {
   "cell_type": "markdown",
   "id": "404170f4",
   "metadata": {},
   "source": [
    "When a function returns, the local scope is destroyed, and all the variables in it are forgotten"
   ]
  },
  {
   "cell_type": "markdown",
   "id": "3242e51c",
   "metadata": {},
   "source": [
    "# 7. What is the concept of a return value? Is it possible to have a return value in an expression?"
   ]
  },
  {
   "cell_type": "markdown",
   "id": "1643d96d",
   "metadata": {},
   "source": [
    "A return value is the value that a function call evaluates to. Like any value, a return value can be used as part of an expression."
   ]
  },
  {
   "cell_type": "markdown",
   "id": "19a214d8",
   "metadata": {},
   "source": [
    "# 8. If a function does not have a return statement, what is the return value of a call to that function?"
   ]
  },
  {
   "cell_type": "markdown",
   "id": "c1d6aff3",
   "metadata": {},
   "source": [
    "If there is no return statement for a function, its return value is None"
   ]
  },
  {
   "cell_type": "markdown",
   "id": "8b23d76d",
   "metadata": {},
   "source": [
    "# 9. How do you make a function variable refer to the global variable?"
   ]
  },
  {
   "cell_type": "markdown",
   "id": "9f4fedaf",
   "metadata": {},
   "source": [
    "A global statement will force a variable in a function to refer to the global variable. If you want to refer to a global variable in a function, you can use the global keyword to declare which variables are global."
   ]
  },
  {
   "cell_type": "markdown",
   "id": "51c81582",
   "metadata": {},
   "source": [
    "# 10. What is the data type of None?"
   ]
  },
  {
   "cell_type": "code",
   "execution_count": 8,
   "id": "b040a8c2",
   "metadata": {},
   "outputs": [
    {
     "name": "stdout",
     "output_type": "stream",
     "text": [
      "<class 'NoneType'>\n"
     ]
    }
   ],
   "source": [
    "print(type(None))\n",
    "\n",
    "#The data type of None is NoneType"
   ]
  },
  {
   "cell_type": "markdown",
   "id": "b5cb8ebd",
   "metadata": {},
   "source": [
    "# 11. What does the sentence import areallyourpetsnamederic do?"
   ]
  },
  {
   "cell_type": "markdown",
   "id": "b51eab9f",
   "metadata": {},
   "source": [
    "The sentence \"import areallyourpetsnamederic\" does not have any specific meaning or functionality in Python.\n",
    "\n",
    "In Python,The import statement is used to bring in modules or packages that contain predefined functions, classes, or variables, allowing you to use them in your program."
   ]
  },
  {
   "cell_type": "markdown",
   "id": "3e30ae18",
   "metadata": {},
   "source": [
    "# 12. If you had a bacon() feature in a spam module, what would you call it after importing spam?"
   ]
  },
  {
   "cell_type": "markdown",
   "id": "a558dbfb",
   "metadata": {},
   "source": [
    "After importing the spam module, we can access the bacon() feature using dot notation.\n",
    "\n",
    "If the bacon() feature is defined within the spam module, we would call it as follows:\n",
    "    \n",
    "import spam\n",
    "\n",
    "spam.bacon()\n",
    "    \n"
   ]
  },
  {
   "cell_type": "markdown",
   "id": "3c363bd9",
   "metadata": {},
   "source": [
    "# 13. What can you do to save a programme from crashing if it encounters an error?"
   ]
  },
  {
   "cell_type": "markdown",
   "id": "4d76dc4f",
   "metadata": {},
   "source": [
    "Place the line of code that might cause an error in a try clause and use except block to handle the error"
   ]
  },
  {
   "cell_type": "markdown",
   "id": "2f46de00",
   "metadata": {},
   "source": [
    "# 14. What is the purpose of the try clause? What is the purpose of the except clause?"
   ]
  },
  {
   "cell_type": "markdown",
   "id": "79a73c12",
   "metadata": {},
   "source": [
    "The code that could potentially cause an error goes in the try clause. The code that executes if an error happens goes in the except clause"
   ]
  },
  {
   "cell_type": "code",
   "execution_count": null,
   "id": "1eeb68f9",
   "metadata": {},
   "outputs": [],
   "source": []
  }
 ],
 "metadata": {
  "kernelspec": {
   "display_name": "Python 3 (ipykernel)",
   "language": "python",
   "name": "python3"
  },
  "language_info": {
   "codemirror_mode": {
    "name": "ipython",
    "version": 3
   },
   "file_extension": ".py",
   "mimetype": "text/x-python",
   "name": "python",
   "nbconvert_exporter": "python",
   "pygments_lexer": "ipython3",
   "version": "3.10.9"
  }
 },
 "nbformat": 4,
 "nbformat_minor": 5
}
