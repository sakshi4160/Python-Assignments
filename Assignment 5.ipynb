{
 "cells": [
  {
   "cell_type": "markdown",
   "id": "02c4d783",
   "metadata": {},
   "source": [
    "# Python Assignment 5"
   ]
  },
  {
   "cell_type": "markdown",
   "id": "4055fa59",
   "metadata": {},
   "source": [
    "# 1. What does an empty dictionarys code look like?"
   ]
  },
  {
   "cell_type": "markdown",
   "id": "013ad19f",
   "metadata": {},
   "source": [
    "An empty dictionary is often represented by two empty curly brackets\n",
    "d = { } or d = dict()"
   ]
  },
  {
   "cell_type": "markdown",
   "id": "6018059b",
   "metadata": {},
   "source": [
    "# 2. What is the value of a dictionary value with the key 'foo' and the value 42?\n"
   ]
  },
  {
   "cell_type": "code",
   "execution_count": 8,
   "id": "76db24ab",
   "metadata": {},
   "outputs": [
    {
     "name": "stdout",
     "output_type": "stream",
     "text": [
      "42\n"
     ]
    }
   ],
   "source": [
    "dict = {'foo': 42}\n",
    "value = dict['foo']\n",
    "print(value)"
   ]
  },
  {
   "cell_type": "markdown",
   "id": "b40eef5f",
   "metadata": {},
   "source": [
    "# 3. What is the most significant distinction between a dictionary and a list?\n"
   ]
  },
  {
   "cell_type": "markdown",
   "id": "ac5c16ae",
   "metadata": {},
   "source": [
    "1] Dictionaries are represented by { } where as listed are represented by [ ]\n",
    "\n",
    "2] The Items stored in a dictionary are Unordered , while the items in a list are ordered\n",
    "\n",
    "3] Dictionary has a key-value structure, where each element consists of a unique key associated with its corresponding value, while List does not have a key-value structure, elements are simply ordered items."
   ]
  },
  {
   "cell_type": "markdown",
   "id": "81a0bb3b",
   "metadata": {},
   "source": [
    "# 4. What happens if you try to access spam['foo'] if spam is {'bar':100}?\n"
   ]
  },
  {
   "cell_type": "markdown",
   "id": "088bdd5a",
   "metadata": {},
   "source": [
    "The KeyError is raised to indicate that the specified key 'foo' is not found in the dictionary."
   ]
  },
  {
   "cell_type": "code",
   "execution_count": 11,
   "id": "f7becdd7",
   "metadata": {},
   "outputs": [
    {
     "ename": "KeyError",
     "evalue": "'foo'",
     "output_type": "error",
     "traceback": [
      "\u001b[1;31m---------------------------------------------------------------------------\u001b[0m",
      "\u001b[1;31mKeyError\u001b[0m                                  Traceback (most recent call last)",
      "Cell \u001b[1;32mIn[11], line 2\u001b[0m\n\u001b[0;32m      1\u001b[0m spam \u001b[38;5;241m=\u001b[39m {\u001b[38;5;124m'\u001b[39m\u001b[38;5;124mbar\u001b[39m\u001b[38;5;124m'\u001b[39m:\u001b[38;5;241m100\u001b[39m}\n\u001b[1;32m----> 2\u001b[0m value \u001b[38;5;241m=\u001b[39m \u001b[43mspam\u001b[49m\u001b[43m[\u001b[49m\u001b[38;5;124;43m'\u001b[39;49m\u001b[38;5;124;43mfoo\u001b[39;49m\u001b[38;5;124;43m'\u001b[39;49m\u001b[43m]\u001b[49m\n\u001b[0;32m      3\u001b[0m \u001b[38;5;28mprint\u001b[39m(value)\n",
      "\u001b[1;31mKeyError\u001b[0m: 'foo'"
     ]
    }
   ],
   "source": [
    "spam = {'bar':100}\n",
    "value = spam['foo']\n",
    "print(value)"
   ]
  },
  {
   "cell_type": "markdown",
   "id": "2ad97165",
   "metadata": {},
   "source": [
    "# 5. If a dictionary is stored in spam, what is the difference between the expressions 'cat' in spam and 'cat' in spam.keys()?"
   ]
  },
  {
   "cell_type": "markdown",
   "id": "76c9f308",
   "metadata": {},
   "source": [
    "1] 'cat' in spam checks if the key 'cat' exists directly in the dictionary spam.\n",
    "\n",
    "2] 'cat' in spam.keys() retrieves the list of keys from spam and checks if the key 'cat' exists in that list."
   ]
  },
  {
   "cell_type": "markdown",
   "id": "8885f98a",
   "metadata": {},
   "source": [
    "# 6. If a dictionary is stored in spam, what is the difference between the expressions 'cat' in spam and 'cat' in spam.values()?"
   ]
  },
  {
   "cell_type": "markdown",
   "id": "59a87a19",
   "metadata": {},
   "source": [
    "1] 'cat' in spam checks if the key 'cat' exists in the dictionary spam.\n",
    "\n",
    "2] 'cat' in spam.values() checks if the value 'cat' exists in any of the values within the dictionary spam."
   ]
  },
  {
   "cell_type": "markdown",
   "id": "3d717757",
   "metadata": {},
   "source": [
    "# 7. What is a shortcut for the following code?\n",
    "      if 'color' not in spam:   \n",
    "      spam['color'] = 'black'"
   ]
  },
  {
   "cell_type": "markdown",
   "id": "359b8e0b",
   "metadata": {},
   "source": [
    "The shortcut is  spam.setdefault ('color', 'black')"
   ]
  },
  {
   "cell_type": "markdown",
   "id": "de3a2f8c",
   "metadata": {},
   "source": [
    "# 8. How do you 'pretty print' dictionary values using which module and function?"
   ]
  },
  {
   "cell_type": "code",
   "execution_count": 6,
   "id": "01754bc6",
   "metadata": {},
   "outputs": [
    {
     "name": "stdout",
     "output_type": "stream",
     "text": [
      "Printing using print() function\n",
      " [{'Name': 'Jeh', 'Age': '22', 'Country': 'Germany'}, {'Name': 'Jose', 'Age': '25', 'Country': 'Spain'}, {'Name': 'Annie', 'Age': '28', 'Country': 'UK'}, {'Name': 'Lee', 'Age': '21', 'Country': 'USA'}]\n",
      "----------------------------------------------------------------------\n",
      "Printing using pprint() funciton\n",
      "[{'Age': '22', 'Country': 'Germany', 'Name': 'Jeh'},\n",
      " {'Age': '25', 'Country': 'Spain', 'Name': 'Jose'},\n",
      " {'Age': '28', 'Country': 'UK', 'Name': 'Annie'},\n",
      " {'Age': '21', 'Country': 'USA', 'Name': 'Lee'}]\n",
      "----------------------------------------------------------------------\n",
      "Printing using dumps() method\n",
      " [\n",
      "    {\n",
      "        \"Name\": \"Jeh\",\n",
      "        \"Age\": \"22\",\n",
      "        \"Country\": \"Germany\"\n",
      "    },\n",
      "    {\n",
      "        \"Name\": \"Jose\",\n",
      "        \"Age\": \"25\",\n",
      "        \"Country\": \"Spain\"\n",
      "    },\n",
      "    {\n",
      "        \"Name\": \"Annie\",\n",
      "        \"Age\": \"28\",\n",
      "        \"Country\": \"UK\"\n",
      "    },\n",
      "    {\n",
      "        \"Name\": \"Lee\",\n",
      "        \"Age\": \"21\",\n",
      "        \"Country\": \"USA\"\n",
      "    }\n",
      "]\n",
      "----------------------------------------------------------------------\n",
      "Printing using dump() method\n",
      " - Age: '22'\n",
      "  Country: Germany\n",
      "  Name: Jeh\n",
      "- Age: '25'\n",
      "  Country: Spain\n",
      "  Name: Jose\n",
      "- Age: '28'\n",
      "  Country: UK\n",
      "  Name: Annie\n",
      "- Age: '21'\n",
      "  Country: USA\n",
      "  Name: Lee\n",
      "\n"
     ]
    }
   ],
   "source": [
    "ndict = [\n",
    "  {'Name': 'Jeh', 'Age': '22', 'Country':'Germany'},\n",
    "  {'Name': 'Jose', 'Age': '25', 'Country':'Spain'},\n",
    "  {'Name': 'Annie', 'Age': '28', 'Country':'UK'},\n",
    "  {'Name': 'Lee', 'Age': '21', 'Country':'USA'}\n",
    "]\n",
    "\n",
    "print('Printing using print() function\\n',ndict)\n",
    "print('-'*70)\n",
    "import pprint\n",
    "print('Printing using pprint() funciton')\n",
    "pprint.pprint(ndict)\n",
    "print('-'*70)\n",
    "import json\n",
    "dump = json.dumps(ndict, indent=4)\n",
    "print('Printing using dumps() method\\n', dump)\n",
    "print('-'*70)\n",
    "import yaml\n",
    "dump = yaml.dump(ndict)\n",
    "print('Printing using dump() method\\n', dump)"
   ]
  }
 ],
 "metadata": {
  "kernelspec": {
   "display_name": "Python 3 (ipykernel)",
   "language": "python",
   "name": "python3"
  },
  "language_info": {
   "codemirror_mode": {
    "name": "ipython",
    "version": 3
   },
   "file_extension": ".py",
   "mimetype": "text/x-python",
   "name": "python",
   "nbconvert_exporter": "python",
   "pygments_lexer": "ipython3",
   "version": "3.10.9"
  }
 },
 "nbformat": 4,
 "nbformat_minor": 5
}
