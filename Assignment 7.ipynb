{
 "cells": [
  {
   "cell_type": "markdown",
   "id": "84c62063",
   "metadata": {},
   "source": [
    "# Python Assignment 7"
   ]
  },
  {
   "cell_type": "markdown",
   "id": "2126f06d",
   "metadata": {},
   "source": [
    "# Q.1. Create two int type variables, apply addition, subtraction, division and multiplications and store the results in variables. Then print the data in the following format by calling the variables:\n",
    "\n",
    "First variable is __ & second variable is __.\n",
    "\n",
    "Addition: __ + __ = __\n",
    "\n",
    "Subtraction: __ - __ = __\n",
    "\n",
    "Multiplication: __ * __ = __\n",
    "\n",
    "Division: __ / __ = __\n"
   ]
  },
  {
   "cell_type": "code",
   "execution_count": 6,
   "id": "d9ffed42",
   "metadata": {},
   "outputs": [
    {
     "name": "stdout",
     "output_type": "stream",
     "text": [
      "First variable is:  4 & second variable is:  10\n",
      "Addition:  4 + 10 = 14\n",
      "Subtraction:  4 - 10 = -6\n",
      "Multiplication:  4 * 10 = 40\n",
      "Division:  4 / 10 = 0.4\n"
     ]
    }
   ],
   "source": [
    "a = 4 \n",
    "b = 10\n",
    "\n",
    "add = a + b\n",
    "sub = a - b\n",
    "mul = a * b\n",
    "div = a / b\n",
    "\n",
    "print(\"First variable is: \", a , \"&\", \"second variable is: \", b)\n",
    "print(\"Addition: \", a , \"+\" , b , \"=\" , add)\n",
    "print(\"Subtraction: \", a , \"-\" , b , \"=\" , sub)\n",
    "print(\"Multiplication: \", a , \"*\" , b , \"=\" , mul)\n",
    "print(\"Division: \", a , \"/\" , b , \"=\" , div)\n"
   ]
  },
  {
   "cell_type": "markdown",
   "id": "f64a610e",
   "metadata": {},
   "source": [
    "# Q.2. What is the difference between the following operators:\n",
    "    \n",
    "(i) ‘/’ & ‘//’\n",
    "\n",
    "(ii) ‘**’ & ‘^’"
   ]
  },
  {
   "cell_type": "markdown",
   "id": "ec1b997e",
   "metadata": {},
   "source": [
    "1]  / operator performs normal division and returns a float result. The // operator, also known as the floor division operator, performs division and returns the integer quotient of the division, discarding any fractional part."
   ]
  },
  {
   "cell_type": "markdown",
   "id": "ac8cbeca",
   "metadata": {},
   "source": [
    "2]  ** is Exponential operator it raises left operand to the power of right operand whereas ^ is a bit-wise XOR operator which performs binary representation of the operands."
   ]
  },
  {
   "cell_type": "code",
   "execution_count": 5,
   "id": "40b97c92",
   "metadata": {},
   "outputs": [
    {
     "name": "stdout",
     "output_type": "stream",
     "text": [
      "Result of division: 0.4\n",
      "Result of floor division: 0\n",
      "------------------------------\n",
      "Result of exponential:  1048576\n",
      "Result of bitwise XOR:  14\n"
     ]
    }
   ],
   "source": [
    "a = 4\n",
    "b = 10\n",
    "\n",
    "# Division \n",
    "result_division = a / b\n",
    "print(\"Result of division:\", result_division)\n",
    "\n",
    "#Floor Division\n",
    "result_floordivision = a // b\n",
    "print(\"Result of floor division:\", result_floordivision)\n",
    "\n",
    "print(\"-\"*30)\n",
    "\n",
    "# Exponential\n",
    "result_exponential = a ** b\n",
    "print(\"Result of exponential: \", result_exponential)\n",
    "\n",
    "# Bitwise XOR\n",
    "result_bitwiseXOR = a ^ b\n",
    "print(\"Result of bitwise XOR: \",result_bitwiseXOR)  \n"
   ]
  },
  {
   "cell_type": "markdown",
   "id": "7efe9cd7",
   "metadata": {},
   "source": [
    "# Q.3. List the logical operators."
   ]
  },
  {
   "cell_type": "markdown",
   "id": "3c9e4b56",
   "metadata": {},
   "source": [
    "logical Operators are And, Or, Not\n",
    "\n",
    "1]  And: This operator returns True if both operands are True; otherwise, it returns False.\n",
    "\n",
    "2]  Or: The OR operator returns True if at least one of the operands is True; otherwise, it returns False.\n",
    "\n",
    "3]  Not: It returns the negation of the operand. If the operand is True, it returns False, and if the operand is False, it returns True."
   ]
  },
  {
   "cell_type": "code",
   "execution_count": 7,
   "id": "1a60620d",
   "metadata": {},
   "outputs": [
    {
     "name": "stdout",
     "output_type": "stream",
     "text": [
      "False\n",
      "True\n",
      "False\n"
     ]
    }
   ],
   "source": [
    "a = True\n",
    "b = False\n",
    "\n",
    "#AND\n",
    "result1 = a and b\n",
    "print(result1)  \n",
    "\n",
    "#OR\n",
    "result2 = a or b\n",
    "print(result2)  \n",
    "\n",
    "#NOT\n",
    "result3 = not a\n",
    "print(result3)\n"
   ]
  },
  {
   "cell_type": "markdown",
   "id": "0eaa4dfd",
   "metadata": {},
   "source": [
    "# Q.4. Explain right shift operator and left shift operator with examples."
   ]
  },
  {
   "cell_type": "markdown",
   "id": "a29b2017",
   "metadata": {},
   "source": [
    "1]  The right shift operator (>>) moves the bits of a number to the right by a specified number of positions. "
   ]
  },
  {
   "cell_type": "code",
   "execution_count": 8,
   "id": "80ec2bde",
   "metadata": {},
   "outputs": [
    {
     "name": "stdout",
     "output_type": "stream",
     "text": [
      "4\n"
     ]
    }
   ],
   "source": [
    "n = 16\n",
    "shift = 2\n",
    "\n",
    "result = n >> shift\n",
    "print(result)  "
   ]
  },
  {
   "cell_type": "markdown",
   "id": "d284101f",
   "metadata": {},
   "source": [
    "2]  The left shift operator (<<) moves the bits of a number to the left by a specified number of positions."
   ]
  },
  {
   "cell_type": "code",
   "execution_count": 22,
   "id": "52940bb0",
   "metadata": {},
   "outputs": [
    {
     "name": "stdout",
     "output_type": "stream",
     "text": [
      "40\n"
     ]
    }
   ],
   "source": [
    "n = 10\n",
    "shift = 2\n",
    "\n",
    "result = n << shift\n",
    "print(result)  "
   ]
  },
  {
   "cell_type": "markdown",
   "id": "187bb061",
   "metadata": {},
   "source": [
    "# Q.5. Create a list containing int type data of length 15. Then write a code to check if 10 is present in the list or not."
   ]
  },
  {
   "cell_type": "code",
   "execution_count": 23,
   "id": "4160e637",
   "metadata": {},
   "outputs": [
    {
     "data": {
      "text/plain": [
       "15"
      ]
     },
     "execution_count": 23,
     "metadata": {},
     "output_type": "execute_result"
    }
   ],
   "source": [
    "l = [1,2,3,4,5,6,7,8,9,10,11,12,13,14,15]\n",
    "len(l)"
   ]
  },
  {
   "cell_type": "code",
   "execution_count": 26,
   "id": "89ae2cc4",
   "metadata": {},
   "outputs": [
    {
     "name": "stdout",
     "output_type": "stream",
     "text": [
      "Yes, 10 is present in the list\n"
     ]
    }
   ],
   "source": [
    "i = 10\n",
    "if i in l:\n",
    "    print(\"Yes, 10 is present in the list\")\n",
    "else:\n",
    "    print(\"Not present\")\n",
    "    "
   ]
  }
 ],
 "metadata": {
  "kernelspec": {
   "display_name": "Python 3 (ipykernel)",
   "language": "python",
   "name": "python3"
  },
  "language_info": {
   "codemirror_mode": {
    "name": "ipython",
    "version": 3
   },
   "file_extension": ".py",
   "mimetype": "text/x-python",
   "name": "python",
   "nbconvert_exporter": "python",
   "pygments_lexer": "ipython3",
   "version": "3.10.9"
  }
 },
 "nbformat": 4,
 "nbformat_minor": 5
}
