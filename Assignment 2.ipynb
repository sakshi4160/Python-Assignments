{
 "cells": [
  {
   "cell_type": "markdown",
   "id": "ee318aa1",
   "metadata": {},
   "source": [
    "# Python Assignment 2"
   ]
  },
  {
   "cell_type": "markdown",
   "id": "5d9c18db",
   "metadata": {},
   "source": [
    "# 1.What are the two values of the Boolean data type? How do you write them?"
   ]
  },
  {
   "cell_type": "markdown",
   "id": "3cffcf83",
   "metadata": {},
   "source": [
    "The Boolean data type represents two values True and False\n",
    "T and F should be capital and rest word should be in lowercase.\n"
   ]
  },
  {
   "cell_type": "code",
   "execution_count": 3,
   "id": "ddc4fa98",
   "metadata": {},
   "outputs": [
    {
     "name": "stdout",
     "output_type": "stream",
     "text": [
      "<class 'bool'>\n",
      "<class 'bool'>\n"
     ]
    }
   ],
   "source": [
    "a = True\n",
    "b = False\n",
    "\n",
    "print (type(a))\n",
    "print (type(b))\n"
   ]
  },
  {
   "cell_type": "markdown",
   "id": "f06fdd35",
   "metadata": {},
   "source": [
    "# 2. What are the three different types of Boolean operators?"
   ]
  },
  {
   "cell_type": "markdown",
   "id": "0fe546a4",
   "metadata": {},
   "source": [
    "The three differnt types of Boolean operators in python are: and or not"
   ]
  },
  {
   "cell_type": "code",
   "execution_count": 4,
   "id": "e20245e1",
   "metadata": {},
   "outputs": [
    {
     "name": "stdout",
     "output_type": "stream",
     "text": [
      "False\n",
      "True\n",
      "True\n"
     ]
    }
   ],
   "source": [
    "a = 40\n",
    "b = 60\n",
    "c = 100\n",
    "\n",
    "print((a > b) and (c > b))\n",
    "print((a > b) or (c > b))\n",
    "print(not (a > b))"
   ]
  },
  {
   "cell_type": "markdown",
   "id": "c64aa162",
   "metadata": {},
   "source": [
    "# 3. Make a list of each Boolean operator&#39;s truth tables (i.e. every possible combination of Boolean values for the operator and what it evaluate )."
   ]
  },
  {
   "cell_type": "markdown",
   "id": "55a2ff18",
   "metadata": {},
   "source": [
    "The Truth tables for the boolean operator is given below:\n",
    "\n",
    "Truth Table for and operaotor:\n",
    "    \n",
    "1) True and True is True\n",
    "2) True and False is False\n",
    "3) False and True is False\n",
    "4) False and False is False\n",
    "\n",
    "\n",
    "Truth Table for or operaotor:\n",
    "    \n",
    "1) True and True is True\n",
    "2) True and False is True\n",
    "3) False and True is True\n",
    "4) False and False is False\n",
    "\n",
    "\n",
    "Truth Table for not operaotor:\n",
    "    \n",
    "1) True not is False \n",
    "2) False not is True"
   ]
  },
  {
   "cell_type": "code",
   "execution_count": null,
   "id": "4ceefd87",
   "metadata": {},
   "outputs": [],
   "source": []
  },
  {
   "cell_type": "markdown",
   "id": "532f5921",
   "metadata": {},
   "source": [
    "# 4. What are the values of the following expressions?\n",
    "\n",
    "(5 &gt; 4) and (3 == 5)\n",
    "\n",
    "not (5 &gt; 4)\n",
    "\n",
    "(5 &gt; 4) or (3 == 5)\n",
    "\n",
    "not ((5 &gt; 4) or (3 == 5))\n",
    "\n",
    "(True and True) and (True == False)\n",
    "\n",
    "(not False) or (not True)"
   ]
  },
  {
   "cell_type": "code",
   "execution_count": 15,
   "id": "16461971",
   "metadata": {},
   "outputs": [
    {
     "name": "stdout",
     "output_type": "stream",
     "text": [
      "False\n",
      "False\n",
      "True\n",
      "False\n",
      "False\n",
      "True\n"
     ]
    }
   ],
   "source": [
    "print((5 > 4) and (3 == 5))\n",
    "print(not(5 > 4))\n",
    "print((5 > 4) or (3 == 5))\n",
    "print(not ((5 > 4) or (3 == 5)))\n",
    "print((True and True) and (True == False))\n",
    "print((not False) or (not True))\n",
    "\n"
   ]
  },
  {
   "cell_type": "code",
   "execution_count": null,
   "id": "9b84fb90",
   "metadata": {},
   "outputs": [],
   "source": []
  },
  {
   "cell_type": "markdown",
   "id": "c0f4353b",
   "metadata": {},
   "source": [
    "# 5. What are the six comparison operators?"
   ]
  },
  {
   "cell_type": "markdown",
   "id": "ddd7516f",
   "metadata": {},
   "source": [
    "The six comparison operators are:\n",
    "\n",
    "Equal to (==)\n",
    "\n",
    "Not equal to (!=) \n",
    "\n",
    "Greater than (>)\n",
    "\n",
    "Less than (<)\n",
    "\n",
    "Greater than or equal to (>=)\n",
    "\n",
    "Less than or equal to (<=)"
   ]
  },
  {
   "cell_type": "code",
   "execution_count": null,
   "id": "e5def66f",
   "metadata": {},
   "outputs": [],
   "source": []
  },
  {
   "cell_type": "markdown",
   "id": "077c6595",
   "metadata": {},
   "source": [
    "# 6. How do you tell the difference between the equal to and assignment operators?Describe a condition and when you would use one."
   ]
  },
  {
   "cell_type": "markdown",
   "id": "450db4a8",
   "metadata": {},
   "source": [
    "The equal to operator (==) and assignment operator (=) are two distinct operators .\n",
    "\n",
    "The equal to operator (==) is used to compare the equality of two values.\n",
    "It checks if the values on both sides are equal and returns a boolean value.\n",
    "\n",
    "the assignment operator (=) is used to assign a value to a variable.\n",
    "It takes the value on the right side and assigns it to the variable on the left side.\n"
   ]
  },
  {
   "cell_type": "code",
   "execution_count": 22,
   "id": "64181b15",
   "metadata": {},
   "outputs": [
    {
     "name": "stdout",
     "output_type": "stream",
     "text": [
      "True\n"
     ]
    }
   ],
   "source": [
    "a = 4              #operator that stores 4 value in a variable a\n",
    "if a == 4:         #comparing values of a variable value and 4   \n",
    "    print(a == 4)\n"
   ]
  },
  {
   "cell_type": "code",
   "execution_count": null,
   "id": "970c3b21",
   "metadata": {},
   "outputs": [],
   "source": []
  },
  {
   "cell_type": "markdown",
   "id": "24984799",
   "metadata": {},
   "source": [
    "# 7. Identify the three blocks in this code:\n",
    "    \n",
    "spam = 0\n",
    "\n",
    "if spam == 10:\n",
    "    \n",
    "print(&#39;eggs&#39;)\n",
    "      \n",
    "if spam &gt; 5:\n",
    "      \n",
    "print(&#39;bacon&#39;)\n",
    "      \n",
    "else:\n",
    "      \n",
    "print(&#39;ham&#39;)\n",
    "      \n",
    "print(&#39;spam&#39;)\n",
    "\n",
    "print(&#39;spam&#39;)"
   ]
  },
  {
   "cell_type": "markdown",
   "id": "26b72174",
   "metadata": {},
   "source": [
    "Ans: In Python, code block refers to a collection of code that is in the same block or indent. This is most commonly found in classes, functions, and loops."
   ]
  },
  {
   "cell_type": "code",
   "execution_count": 30,
   "id": "cedaa529",
   "metadata": {},
   "outputs": [
    {
     "name": "stdout",
     "output_type": "stream",
     "text": [
      "ham\n",
      "spam\n",
      "spam\n"
     ]
    }
   ],
   "source": [
    "spam = 0\n",
    "if spam == 10:\n",
    "    print(eggs)   # block 1\n",
    "if spam > 5:\n",
    "    print(bacon)  # block 2\n",
    "else:\n",
    "    print('ham')  # block 3\n",
    "print('spam')\n",
    "print('spam')"
   ]
  },
  {
   "cell_type": "code",
   "execution_count": null,
   "id": "1fedf53a",
   "metadata": {},
   "outputs": [],
   "source": []
  },
  {
   "cell_type": "markdown",
   "id": "824b9964",
   "metadata": {},
   "source": [
    "# 8. Write code that prints Hello if 1 is stored in spam, prints Howdy if 2 is stored in spam, and prints Greetings! if anything else is stored in spam."
   ]
  },
  {
   "cell_type": "code",
   "execution_count": 42,
   "id": "0c1c26d2",
   "metadata": {},
   "outputs": [
    {
     "name": "stdout",
     "output_type": "stream",
     "text": [
      "Enter value for spam1\n",
      "Hello\n"
     ]
    }
   ],
   "source": [
    "spam = int(input(\"Enter value for spam\"))\n",
    "if spam == 1:\n",
    "    print(\"Hello\")\n",
    "elif spam == 2:\n",
    "    print(\"Howdy\")\n",
    "else:\n",
    "    print(\"Greetings!\")"
   ]
  },
  {
   "cell_type": "code",
   "execution_count": null,
   "id": "325cb45e",
   "metadata": {},
   "outputs": [],
   "source": []
  },
  {
   "cell_type": "markdown",
   "id": "04171df4",
   "metadata": {},
   "source": [
    "# 9.If your programme is stuck in an endless loop, what keys you’ll press?"
   ]
  },
  {
   "cell_type": "markdown",
   "id": "7e819720",
   "metadata": {},
   "source": [
    "Press Ctrl + C to stop a program stuck in an infinite loop\n",
    "\n",
    "Ctrl + C is a universal key combination used to interrupt the execution of a program. \n",
    "It sends an interrupt signal to the running program, causing it to terminate."
   ]
  },
  {
   "cell_type": "code",
   "execution_count": null,
   "id": "c2dc6f6a",
   "metadata": {},
   "outputs": [],
   "source": []
  },
  {
   "cell_type": "markdown",
   "id": "bdfb183b",
   "metadata": {},
   "source": [
    "# 10. How can you tell the difference between break and continue?"
   ]
  },
  {
   "cell_type": "markdown",
   "id": "01bed5d7",
   "metadata": {},
   "source": [
    "The break statement will move the execution outside the loop if break condtion is satisfied. Whereas the continue statement will move the execution to the start of the loop."
   ]
  },
  {
   "cell_type": "code",
   "execution_count": null,
   "id": "043d696c",
   "metadata": {},
   "outputs": [],
   "source": []
  },
  {
   "cell_type": "markdown",
   "id": "a4753d38",
   "metadata": {},
   "source": [
    "# 11. In a for loop, what is the difference between range(10), range(0, 10), and range(0, 10, 1)?"
   ]
  },
  {
   "cell_type": "markdown",
   "id": "3f1e827d",
   "metadata": {},
   "source": [
    "1]range(10) generates numbers from 0 to 9 with a default start value of 0.\n",
    "\n",
    "2]range(0, 10) explicitly sets the start value to 0 and generates numbers up to 10, but not including the end value of 10.\n",
    "\n",
    "3]range(0, 10, 1) explicitly tells the loop to increase the variable by 1 on each iteration\n",
    "\n"
   ]
  },
  {
   "cell_type": "code",
   "execution_count": null,
   "id": "2b8d24df",
   "metadata": {},
   "outputs": [],
   "source": []
  },
  {
   "cell_type": "markdown",
   "id": "41513810",
   "metadata": {},
   "source": [
    "# 12. Write a short program that prints the numbers 1 to 10 using a for loop. Then write an equivalent program that prints the numbers 1 to 10 using a while loop."
   ]
  },
  {
   "cell_type": "code",
   "execution_count": 6,
   "id": "d9ad4f34",
   "metadata": {},
   "outputs": [
    {
     "name": "stdout",
     "output_type": "stream",
     "text": [
      "1 2 3 4 5 6 7 8 9 10 "
     ]
    }
   ],
   "source": [
    "for i in range (1,11):\n",
    "    print(i, end = \" \")"
   ]
  },
  {
   "cell_type": "code",
   "execution_count": 7,
   "id": "e7f48f5c",
   "metadata": {},
   "outputs": [
    {
     "name": "stdout",
     "output_type": "stream",
     "text": [
      "1 2 3 4 5 6 7 8 9 10 "
     ]
    }
   ],
   "source": [
    "i = 1\n",
    "while i <= 10:\n",
    "    print(i, end = \" \")\n",
    "    i += 1"
   ]
  },
  {
   "cell_type": "code",
   "execution_count": null,
   "id": "715b99d2",
   "metadata": {},
   "outputs": [],
   "source": []
  },
  {
   "cell_type": "markdown",
   "id": "341c4131",
   "metadata": {},
   "source": [
    "# 13. If you had a function named bacon() inside a module named spam, how would you call it after importing spam?"
   ]
  },
  {
   "cell_type": "markdown",
   "id": "4b3073e0",
   "metadata": {},
   "source": [
    "After importing the module named spam, you can call the function bacon() by using the dot notation.\n",
    "\n",
    "This function can be called with spam.bacon()"
   ]
  },
  {
   "cell_type": "code",
   "execution_count": null,
   "id": "0ac1dc10",
   "metadata": {},
   "outputs": [],
   "source": []
  }
 ],
 "metadata": {
  "kernelspec": {
   "display_name": "Python 3 (ipykernel)",
   "language": "python",
   "name": "python3"
  },
  "language_info": {
   "codemirror_mode": {
    "name": "ipython",
    "version": 3
   },
   "file_extension": ".py",
   "mimetype": "text/x-python",
   "name": "python",
   "nbconvert_exporter": "python",
   "pygments_lexer": "ipython3",
   "version": "3.10.9"
  }
 },
 "nbformat": 4,
 "nbformat_minor": 5
}
