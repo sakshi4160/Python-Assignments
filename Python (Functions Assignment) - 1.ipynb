{
 "cells": [
  {
   "cell_type": "markdown",
   "id": "2bc29bfe",
   "metadata": {},
   "source": [
    "# Function Assignment "
   ]
  },
  {
   "cell_type": "markdown",
   "id": "c5dd4d01",
   "metadata": {},
   "source": [
    "# 1. In Python, what is the difference between a built-in function and a user-defined function? Provide an example of each.\n",
    "\n"
   ]
  },
  {
   "cell_type": "markdown",
   "id": "af36c564",
   "metadata": {},
   "source": [
    "#Built-in function\n",
    "\n",
    "A built-in function in Python is a function that is already defined and available in the Python programming language. These functions are built into the Python interpreter and can be used directly without any additional steps.\n",
    "\n",
    "Examples of built-in functions include print(), len(), range(), and type()."
   ]
  },
  {
   "cell_type": "code",
   "execution_count": 3,
   "id": "847956fc",
   "metadata": {},
   "outputs": [
    {
     "data": {
      "text/plain": [
       "13"
      ]
     },
     "execution_count": 3,
     "metadata": {},
     "output_type": "execute_result"
    }
   ],
   "source": [
    "name = \"Sakshi Choube\"\n",
    "len(name)"
   ]
  },
  {
   "cell_type": "markdown",
   "id": "6dd97e25",
   "metadata": {},
   "source": [
    "#User-defined function\n",
    "\n",
    "A user-defined function is a function that is defined by the user or programmer. It allows you to create your own functions tailored to specific tasks or requirements."
   ]
  },
  {
   "cell_type": "code",
   "execution_count": 4,
   "id": "7eb2bf74",
   "metadata": {},
   "outputs": [
    {
     "name": "stdout",
     "output_type": "stream",
     "text": [
      "6\n"
     ]
    }
   ],
   "source": [
    "def add_num(a, b):\n",
    "    return a + b\n",
    "\n",
    "result = add_num(2, 4)\n",
    "print(result)  "
   ]
  },
  {
   "cell_type": "markdown",
   "id": "0fcca16c",
   "metadata": {},
   "source": [
    "\n",
    "# 2. How can you pass arguments to a function in Python? Explain the difference between positional arguments and keyword arguments.\n"
   ]
  },
  {
   "cell_type": "markdown",
   "id": "d47a42bb",
   "metadata": {},
   "source": [
    "In Python, you can pass arguments to a function by specifying them inside the parentheses when calling the function"
   ]
  },
  {
   "cell_type": "markdown",
   "id": "7e1f91cf",
   "metadata": {},
   "source": [
    "1]  Positional Arguments: These arguments are passed to a function in the order they are defined in the function signature. The values are assigned to the corresponding parameters based on their positions."
   ]
  },
  {
   "cell_type": "code",
   "execution_count": 13,
   "id": "fa07e5d7",
   "metadata": {},
   "outputs": [
    {
     "name": "stdout",
     "output_type": "stream",
     "text": [
      "14\n"
     ]
    }
   ],
   "source": [
    "#Example\n",
    "\n",
    "def add(a, b):\n",
    "    return a + b\n",
    "\n",
    "result = add(4, 10)\n",
    "print(result)  "
   ]
  },
  {
   "cell_type": "markdown",
   "id": "047faa0b",
   "metadata": {},
   "source": [
    "2]  keyword Arguments: These arguments are passed to a function using parameter names followed by the corresponding values. By using keywords, you can specify arguments in any order and make the code more readable."
   ]
  },
  {
   "cell_type": "code",
   "execution_count": 1,
   "id": "f980a6c2",
   "metadata": {},
   "outputs": [
    {
     "name": "stdout",
     "output_type": "stream",
     "text": [
      "Hello, My name is Sakshi! \n"
     ]
    }
   ],
   "source": [
    "#Example\n",
    "\n",
    "def introduction(message, name):\n",
    "    print(f\"Hello, {message} {name}! \")\n",
    "\n",
    "introduction(message = \"My name is\", name=\"Sakshi\")"
   ]
  },
  {
   "cell_type": "markdown",
   "id": "6d6819a4",
   "metadata": {},
   "source": [
    "# 3. What is the purpose of the return statement in a function? Can a function have multiple return statements? Explain with an example.\n"
   ]
  },
  {
   "cell_type": "markdown",
   "id": "2e7881a3",
   "metadata": {},
   "source": [
    "The `return` statement in a function is used to specify the value that the function should produce as its result. It allows the function to send a value back to the caller. A function can have multiple `return` statements, which provide different exit points or return values based on specific conditions."
   ]
  },
  {
   "cell_type": "code",
   "execution_count": 10,
   "id": "0a2a88e8",
   "metadata": {},
   "outputs": [
    {
     "name": "stdout",
     "output_type": "stream",
     "text": [
      "The student's grade is  A\n"
     ]
    }
   ],
   "source": [
    "def grade(score):\n",
    "    if score >= 90:\n",
    "        return \"A\"\n",
    "    elif score >= 80:\n",
    "        return \"B\"\n",
    "    elif score >= 70:\n",
    "        return \"C\"\n",
    "    else:\n",
    "        return \"D\"\n",
    "\n",
    "\n",
    "result = grade(94)\n",
    "print(\"The student's grade is \", result)"
   ]
  },
  {
   "cell_type": "markdown",
   "id": "a95b74ca",
   "metadata": {},
   "source": [
    "# 4. What are lambda functions in Python? How are they different from regular functions? Provide an example where a lambda function can be useful.\n"
   ]
  },
  {
   "cell_type": "markdown",
   "id": "c9ca6c11",
   "metadata": {},
   "source": [
    "#Lambda Function\n",
    "\n",
    "1)  Lambda functions are small, anonymous functions defined with the lambda keyword.\n",
    "They can take any number of arguments but can only have one expression.\n",
    "The expression is evaluated and returned when the function is called.\n",
    "\n",
    "2)  Lambda functions do not require a return statement, the expression is implicitly returned.\n",
    "They can be used wherever function objects are required, like inside functions like map(), filter(), and reduce().\n",
    "\n",
    "3)  You can't include statements like loops, if, or else in lambda functions; only expressions are allowed.\n",
    "\n",
    "4)  Lambda functions are useful for small tasks that are not reused throughout your code.\n",
    "They can be assigned to variables and used like regular functions."
   ]
  },
  {
   "cell_type": "markdown",
   "id": "d418b627",
   "metadata": {},
   "source": [
    "#The key differences between lambda functions and regular functions are:\n",
    "\n",
    "1) Syntax: Lambda functions are defined using the lambda keyword and don't require a function name or return statement.\n",
    "\n",
    "2) Simplicity: Lambda functions are concise and typically consist of a single expression, whereas regular functions can contain multiple statements and have more complex logic.\n",
    "\n",
    "3) Scope: Lambda functions are often used within the context of a single line of code or a specific task, while regular functions are commonly defined to be reused in different parts of a program."
   ]
  },
  {
   "cell_type": "code",
   "execution_count": 15,
   "id": "606691cf",
   "metadata": {},
   "outputs": [
    {
     "name": "stdout",
     "output_type": "stream",
     "text": [
      "[1, 4, 9, 16, 25]\n"
     ]
    }
   ],
   "source": [
    "#Example\n",
    "\n",
    "numbers = [1, 2, 3, 4, 5]\n",
    "square = map(lambda x: x * x, numbers)\n",
    "print(list(square)) "
   ]
  },
  {
   "cell_type": "markdown",
   "id": "87dae615",
   "metadata": {},
   "source": [
    "# 5. How does the concept of \"scope\" apply to functions in Python? Explain the difference between local scope and global scope.\n"
   ]
  },
  {
   "cell_type": "markdown",
   "id": "6b4f0407",
   "metadata": {},
   "source": [
    "In Python, the concept of \"scope\" refers to the region or context in which variables, functions, and objects are defined and can be accessed. The scope determines the visibility and lifetime of these entities within a program."
   ]
  },
  {
   "cell_type": "markdown",
   "id": "c75d0648",
   "metadata": {},
   "source": [
    "#Local Scope:\n",
    "1)  Local scope refers to the region within a function where variables and objects are defined. These variables and objects can only be accessed within the function where they are defined.\n",
    "Variables defined within a function are called local variables and are not visible outside the function.\n",
    "\n",
    "2)  Local scope is created whenever a function is called and is destroyed when the function execution completes.\n",
    "Local variables cannot be accessed by other functions or the main program outside the function."
   ]
  },
  {
   "cell_type": "code",
   "execution_count": 23,
   "id": "7081f740",
   "metadata": {},
   "outputs": [
    {
     "name": "stdout",
     "output_type": "stream",
     "text": [
      "24\n"
     ]
    },
    {
     "ename": "NameError",
     "evalue": "name 'product' is not defined",
     "output_type": "error",
     "traceback": [
      "\u001b[1;31m---------------------------------------------------------------------------\u001b[0m",
      "\u001b[1;31mNameError\u001b[0m                                 Traceback (most recent call last)",
      "Cell \u001b[1;32mIn[23], line 7\u001b[0m\n\u001b[0;32m      5\u001b[0m result \u001b[38;5;241m=\u001b[39m multiply(\u001b[38;5;241m4\u001b[39m, \u001b[38;5;241m6\u001b[39m)\n\u001b[0;32m      6\u001b[0m \u001b[38;5;28mprint\u001b[39m(result)  \n\u001b[1;32m----> 7\u001b[0m \u001b[38;5;28mprint\u001b[39m(\u001b[43mproduct\u001b[49m)\n",
      "\u001b[1;31mNameError\u001b[0m: name 'product' is not defined"
     ]
    }
   ],
   "source": [
    "def multiply(a, b):\n",
    "    product = a * b  # Local variable\n",
    "    return product\n",
    "\n",
    "result = multiply(4, 6)\n",
    "print(result)  \n",
    "print(product)  # Raises NameError: name 'product' is not defined\n",
    "\n",
    "\n",
    "\n",
    "#In this example, the variable product is defined within the multiply() function, making it a local variable. \n",
    "#It can only be accessed within the function.\n",
    "#When the function is called, it returns the value of product, which is then stored in the variable result. \n",
    "#However, if we try to access product outside the function, it raises a NameError because the variable is not defined in the global scope."
   ]
  },
  {
   "cell_type": "markdown",
   "id": "b658d255",
   "metadata": {},
   "source": [
    "#Global Scope:\n",
    "1.  Global scope refers to the region outside of any function or within the main program where variables and objects are defined.\n",
    "Variables defined outside of any function, at the top-level of the program, are called global variables.\n",
    "\n",
    "2.  Global variables are accessible from any part of the program, including within functions.\n",
    "Global scope exists as long as the program is running."
   ]
  },
  {
   "cell_type": "code",
   "execution_count": 26,
   "id": "2d160b88",
   "metadata": {},
   "outputs": [
    {
     "name": "stdout",
     "output_type": "stream",
     "text": [
      "2\n"
     ]
    }
   ],
   "source": [
    "count = 0  # Global variable\n",
    "\n",
    "def increment():\n",
    "    global count\n",
    "    count += 1\n",
    "\n",
    "def print_count():\n",
    "    print(count)\n",
    "\n",
    "increment()\n",
    "increment()\n",
    "print_count()  "
   ]
  },
  {
   "cell_type": "markdown",
   "id": "42579d0c",
   "metadata": {},
   "source": [
    "# 6. How can you use the \"return\" statement in a Python function to return multiple values?"
   ]
  },
  {
   "cell_type": "markdown",
   "id": "d31e337e",
   "metadata": {},
   "source": [
    "In Python, you can use the return statement in a function to return multiple values by returning them as a tuple, list, or any other iterable object"
   ]
  },
  {
   "cell_type": "markdown",
   "id": "0d7c7fbd",
   "metadata": {},
   "source": [
    "#Returning as a Tuple:\n",
    "\n",
    "You can use the return statement to return multiple values as a tuple. \n",
    "The values are separated by commas within the return statement. "
   ]
  },
  {
   "cell_type": "code",
   "execution_count": 28,
   "id": "9933a3ec",
   "metadata": {},
   "outputs": [
    {
     "name": "stdout",
     "output_type": "stream",
     "text": [
      "(150, 30.0, 10, 50)\n",
      "150\n",
      "30.0\n",
      "10\n",
      "50\n"
     ]
    }
   ],
   "source": [
    "def calculate_stats(numbers):\n",
    "    total = sum(numbers)\n",
    "    average = total / len(numbers)\n",
    "    minimum = min(numbers)\n",
    "    maximum = max(numbers)\n",
    "    return total, average, minimum, maximum\n",
    "\n",
    "numbers = [10, 20, 30, 40, 50]\n",
    "result = calculate_stats(numbers)\n",
    "print(result)  \n",
    "\n",
    "# Unpacking the returned values\n",
    "total, average, minimum, maximum = calculate_stats(numbers)\n",
    "print(total)     \n",
    "print(average)   \n",
    "print(minimum)   \n",
    "print(maximum)   \n"
   ]
  },
  {
   "cell_type": "markdown",
   "id": "43a3bafa",
   "metadata": {},
   "source": [
    "#Returning as a List:\n",
    "\n",
    "Similar to returning as a tuple, you can also return multiple values as a list by enclosing the values in square brackets within the return statement."
   ]
  },
  {
   "cell_type": "code",
   "execution_count": 29,
   "id": "94b171c9",
   "metadata": {},
   "outputs": [
    {
     "name": "stdout",
     "output_type": "stream",
     "text": [
      "[40, 20]\n",
      "40\n",
      "20\n"
     ]
    }
   ],
   "source": [
    "def get_numbers():\n",
    "    number1 = 40\n",
    "    number2 = 20\n",
    "    return [number1, number2]\n",
    "\n",
    "result = get_numbers()\n",
    "print(result)  \n",
    "\n",
    "# Accessing the returned values\n",
    "print(result[0])  \n",
    "print(result[1])  \n"
   ]
  },
  {
   "cell_type": "markdown",
   "id": "a13ca7f1",
   "metadata": {},
   "source": [
    "# 7. What is the difference between the \"pass by value\" and \"pass by reference\" concepts when it comes to function arguments in Python?\n"
   ]
  },
  {
   "cell_type": "markdown",
   "id": "28d3b8ba",
   "metadata": {},
   "source": [
    "#Pass by Value:\n",
    "\n",
    "In pass by value, a copy of the value of the variable is passed to the function. \n",
    "Any modifications made to the parameter inside the function do not affect the original variable outside the function."
   ]
  },
  {
   "cell_type": "code",
   "execution_count": 4,
   "id": "f70e4663",
   "metadata": {},
   "outputs": [
    {
     "name": "stdout",
     "output_type": "stream",
     "text": [
      "Inside the function: 11\n",
      "Outside the function: 10\n"
     ]
    }
   ],
   "source": [
    "def increment(num):\n",
    "    num += 1\n",
    "    print(\"Inside the function:\", num)\n",
    "\n",
    "x = 10\n",
    "increment(x)\n",
    "print(\"Outside the function:\", x)\n"
   ]
  },
  {
   "cell_type": "markdown",
   "id": "87d03959",
   "metadata": {},
   "source": [
    "#Pass by Reference:\n",
    "\n",
    "Here, the reference to the variable is passed to the function. Any modifications made to the parameter inside the function affect the original variable outside the function."
   ]
  },
  {
   "cell_type": "code",
   "execution_count": 9,
   "id": "211ebff7",
   "metadata": {},
   "outputs": [
    {
     "name": "stdout",
     "output_type": "stream",
     "text": [
      "Inside the function: [2, 4, 6, 10]\n",
      "Outside the function: [2, 4, 6, 10]\n"
     ]
    }
   ],
   "source": [
    "def append_element(lst):\n",
    "    lst.append(10)\n",
    "    print(\"Inside the function:\", lst)\n",
    "\n",
    "list = [2, 4, 6]\n",
    "append_element(list)\n",
    "print(\"Outside the function:\", list)"
   ]
  },
  {
   "cell_type": "markdown",
   "id": "a6b36763",
   "metadata": {},
   "source": [
    "# 8. Create a function that can intake integer or decimal value and do following operations:\n",
    "    \n",
    "a. Logarithmic function (log x)\n",
    "\n",
    "b. Exponential function (exp(x))\n",
    "\n",
    "c. Power function with base 2(2x)\n",
    "\n",
    "d. Square root\n"
   ]
  },
  {
   "cell_type": "code",
   "execution_count": 16,
   "id": "bfbd5619",
   "metadata": {},
   "outputs": [],
   "source": [
    "def perform_operations(x):\n",
    "    # Logarithmic function \n",
    "    logarithm = math.log(x)\n",
    "\n",
    "    # Exponential function \n",
    "    exponential = math.exp(x)\n",
    "\n",
    "    # Power function with base 2 \n",
    "    power_of_two = math.pow(2, x)\n",
    "\n",
    "    # Square root\n",
    "    square_root = math.sqrt(x)\n",
    "\n",
    "    \n",
    "    print(\"Logarithm:\", logarithm)\n",
    "    print(\"Exponential:\", exponential)\n",
    "    print(\"Power of 2:\", power_of_two)\n",
    "    print(\"Square root:\", square_root)\n"
   ]
  },
  {
   "cell_type": "code",
   "execution_count": 17,
   "id": "bbe5ab62",
   "metadata": {},
   "outputs": [
    {
     "name": "stdout",
     "output_type": "stream",
     "text": [
      "Logarithm: 1.6094379124341003\n",
      "Exponential: 148.4131591025766\n",
      "Power of 2: 32.0\n",
      "Square root: 2.23606797749979\n"
     ]
    }
   ],
   "source": [
    "perform_operations(5)"
   ]
  },
  {
   "cell_type": "markdown",
   "id": "4c8d4708",
   "metadata": {},
   "source": [
    "# 9. Create a function that takes a full name as an argument and returns first name and last name."
   ]
  },
  {
   "cell_type": "code",
   "execution_count": 3,
   "id": "16e43dc0",
   "metadata": {},
   "outputs": [
    {
     "data": {
      "text/plain": [
       "('Sakshi', 'Choube')"
      ]
     },
     "execution_count": 3,
     "metadata": {},
     "output_type": "execute_result"
    }
   ],
   "source": [
    "def name(FullName):\n",
    "    name_parts = FullName.split()\n",
    "    \n",
    "    FirstName = name_parts[0] \n",
    "    LastName = name_parts[-1]\n",
    "    \n",
    "    return FirstName , LastName\n",
    "\n",
    "name(\"Sakshi Choube\")\n",
    "    "
   ]
  }
 ],
 "metadata": {
  "kernelspec": {
   "display_name": "Python 3 (ipykernel)",
   "language": "python",
   "name": "python3"
  },
  "language_info": {
   "codemirror_mode": {
    "name": "ipython",
    "version": 3
   },
   "file_extension": ".py",
   "mimetype": "text/x-python",
   "name": "python",
   "nbconvert_exporter": "python",
   "pygments_lexer": "ipython3",
   "version": "3.10.9"
  }
 },
 "nbformat": 4,
 "nbformat_minor": 5
}
