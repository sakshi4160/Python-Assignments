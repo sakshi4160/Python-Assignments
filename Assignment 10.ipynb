{
 "cells": [
  {
   "cell_type": "markdown",
   "id": "ecef254f",
   "metadata": {},
   "source": [
    "# Python Assignment"
   ]
  },
  {
   "cell_type": "markdown",
   "id": "1d6321f9",
   "metadata": {},
   "source": [
    "# 1. What is the role of try and exception block?\n"
   ]
  },
  {
   "cell_type": "markdown",
   "id": "3c09e7af",
   "metadata": {},
   "source": [
    "In Python, we have exceptional handling as a process. When our program runs through an error then we use exceptional handling to give error and print specific error out of it. In which we use this try and exception block.\n",
    "\n",
    "`Try` block lets us test a block of code for errors.\n",
    "`Except` block lets you handle the error."
   ]
  },
  {
   "cell_type": "code",
   "execution_count": 1,
   "id": "ef2e3f38",
   "metadata": {},
   "outputs": [
    {
     "ename": "NameError",
     "evalue": "name 'x' is not defined",
     "output_type": "error",
     "traceback": [
      "\u001b[1;31m---------------------------------------------------------------------------\u001b[0m",
      "\u001b[1;31mNameError\u001b[0m                                 Traceback (most recent call last)",
      "Cell \u001b[1;32mIn[1], line 2\u001b[0m\n\u001b[0;32m      1\u001b[0m \u001b[38;5;66;03m#normal function with error\u001b[39;00m\n\u001b[1;32m----> 2\u001b[0m \u001b[38;5;28mprint\u001b[39m(\u001b[43mx\u001b[49m)\n",
      "\u001b[1;31mNameError\u001b[0m: name 'x' is not defined"
     ]
    }
   ],
   "source": [
    "#normal function with error\n",
    "print(x)"
   ]
  },
  {
   "cell_type": "code",
   "execution_count": 2,
   "id": "9a21a9c0",
   "metadata": {},
   "outputs": [
    {
     "name": "stdout",
     "output_type": "stream",
     "text": [
      "There is no x\n"
     ]
    }
   ],
   "source": [
    "#exceptional handled function\n",
    "try:\n",
    "    print(x) #what code can throw an error / error will be in the try block\n",
    "except:\n",
    "    print(\"There is no x\") # After try, except will be executed"
   ]
  },
  {
   "cell_type": "markdown",
   "id": "0c120b61",
   "metadata": {},
   "source": [
    "# 2. What is the syntax for a basic try-except block?"
   ]
  },
  {
   "cell_type": "markdown",
   "id": "20cb1c48",
   "metadata": {},
   "source": [
    "For try-except block. We use try and except in the function where try finds the error and except handles it."
   ]
  },
  {
   "cell_type": "code",
   "execution_count": 3,
   "id": "55cf62d0",
   "metadata": {},
   "outputs": [
    {
     "name": "stdout",
     "output_type": "stream",
     "text": [
      "There is no x\n"
     ]
    }
   ],
   "source": [
    "try: # finds the error\n",
    "    print(x)\n",
    "except: # handles the error\n",
    "    print(\"There is no x\") # After try, except will be executed"
   ]
  },
  {
   "cell_type": "markdown",
   "id": "b9442ce6",
   "metadata": {},
   "source": [
    "# 3. What happens if an exception occurs inside a try block and there is no matching except block?"
   ]
  },
  {
   "cell_type": "markdown",
   "id": "1246ec87",
   "metadata": {},
   "source": [
    "When an exception occurs inside a try block and there is no matching except block in the code then the program will throw the error with the excception for that code if it's aviable in python."
   ]
  },
  {
   "cell_type": "code",
   "execution_count": 6,
   "id": "ec78ca73",
   "metadata": {},
   "outputs": [
    {
     "name": "stdout",
     "output_type": "stream",
     "text": [
      "Enter num1 : 6\n",
      "Enter num2 : 0\n"
     ]
    },
    {
     "ename": "ZeroDivisionError",
     "evalue": "division by zero",
     "output_type": "error",
     "traceback": [
      "\u001b[1;31m---------------------------------------------------------------------------\u001b[0m",
      "\u001b[1;31mZeroDivisionError\u001b[0m                         Traceback (most recent call last)",
      "Cell \u001b[1;32mIn[6], line 6\u001b[0m\n\u001b[0;32m      3\u001b[0m     n \u001b[38;5;241m=\u001b[39m \u001b[38;5;28mint\u001b[39m(\u001b[38;5;28minput\u001b[39m(\u001b[38;5;124m\"\u001b[39m\u001b[38;5;124mEnter num1 : \u001b[39m\u001b[38;5;124m\"\u001b[39m))\n\u001b[0;32m      4\u001b[0m     d \u001b[38;5;241m=\u001b[39m \u001b[38;5;28mint\u001b[39m(\u001b[38;5;28minput\u001b[39m(\u001b[38;5;124m\"\u001b[39m\u001b[38;5;124mEnter num2 : \u001b[39m\u001b[38;5;124m\"\u001b[39m))\n\u001b[1;32m----> 6\u001b[0m     result \u001b[38;5;241m=\u001b[39m \u001b[43mn\u001b[49m\u001b[43m \u001b[49m\u001b[38;5;241;43m/\u001b[39;49m\u001b[43m \u001b[49m\u001b[43md\u001b[49m\n\u001b[0;32m      7\u001b[0m     \u001b[38;5;28mprint\u001b[39m(\u001b[38;5;124m\"\u001b[39m\u001b[38;5;124mResult : \u001b[39m\u001b[38;5;124m\"\u001b[39m, result)\n\u001b[0;32m      8\u001b[0m \u001b[38;5;66;03m#except ZeroDivisionError:\u001b[39;00m\n\u001b[0;32m      9\u001b[0m     \u001b[38;5;66;03m#print(\"You have divided the number by zero\")\u001b[39;00m\n",
      "\u001b[1;31mZeroDivisionError\u001b[0m: division by zero"
     ]
    }
   ],
   "source": [
    "#not using zerodivision error code over here. So, we will get the zerodivision error in the code.\n",
    "try:\n",
    "    n = int(input(\"Enter num1 : \"))\n",
    "    d = int(input(\"Enter num2 : \"))\n",
    "    \n",
    "    result = n / d\n",
    "    print(\"Result : \", result)\n",
    "#except ZeroDivisionError:\n",
    "    #print(\"You have divided the number by zero\")\n",
    "except ValueError:\n",
    "    print(\"It should be integer but you entered float\")"
   ]
  },
  {
   "cell_type": "markdown",
   "id": "0342c9ec",
   "metadata": {},
   "source": [
    "# 4. What is the difference between using a bare except block and specifying a specific exception type?\n"
   ]
  },
  {
   "cell_type": "markdown",
   "id": "4aebf9bf",
   "metadata": {},
   "source": [
    "When we will be using a bare except in the program then whatever the error will be there in the program it will throw the except block message directly nothing other than this. But when we specifty a exception block then it will give the specific error which will be occuring there in the program first of all."
   ]
  },
  {
   "cell_type": "code",
   "execution_count": 1,
   "id": "6a2209f1",
   "metadata": {},
   "outputs": [
    {
     "name": "stdout",
     "output_type": "stream",
     "text": [
      "Enter num1 : 6\n",
      "Enter num2 : 0\n",
      "You have divided the number by zero\n"
     ]
    }
   ],
   "source": [
    "#here we will see that it enountered the zerodivision error that's why program took the zerodivision error at first\n",
    "try:\n",
    "    n = int(input(\"Enter num1 : \"))\n",
    "    d = int(input(\"Enter num2 : \"))\n",
    "    result = n / d\n",
    "    print(\"Result : \", result)\n",
    "except ZeroDivisionError:\n",
    "    print(\"You have divided the number by zero\")\n",
    "except ValueError:\n",
    "    print(\"It should be integer but you entered float\")"
   ]
  },
  {
   "cell_type": "markdown",
   "id": "83a3bdee",
   "metadata": {},
   "source": [
    "# 5. Can you have nested try-except blocks in Python? If yes, then give an example."
   ]
  },
  {
   "cell_type": "markdown",
   "id": "d54dc16d",
   "metadata": {},
   "source": [
    "Yes, we can have nested try-except block in python."
   ]
  },
  {
   "cell_type": "code",
   "execution_count": 2,
   "id": "086c6fcf",
   "metadata": {},
   "outputs": [
    {
     "name": "stdout",
     "output_type": "stream",
     "text": [
      "outer try block\n",
      "nested try block\n",
      "outer except block\n"
     ]
    }
   ],
   "source": [
    "#nested try-except block\n",
    "x = 10\n",
    "y = 0\n",
    "try:\n",
    "    print(\"outer try block\")\n",
    "    try:\n",
    "        print(\"nested try block\")\n",
    "        print(x / y)\n",
    "    except TypeError:\n",
    "        print(\"nested except block\")\n",
    "except ZeroDivisionError:\n",
    "    print(\"outer except block\")"
   ]
  },
  {
   "cell_type": "markdown",
   "id": "47a5df21",
   "metadata": {},
   "source": [
    "# 6. Can we use multiple exception blocks, if yes then give an example."
   ]
  },
  {
   "cell_type": "markdown",
   "id": "c89d273d",
   "metadata": {},
   "source": [
    "\n",
    "Yes, we can use multiple exception blocks."
   ]
  },
  {
   "cell_type": "code",
   "execution_count": 3,
   "id": "5da6a38b",
   "metadata": {},
   "outputs": [
    {
     "name": "stdout",
     "output_type": "stream",
     "text": [
      "can only concatenate str (not \"int\") to str\n"
     ]
    }
   ],
   "source": [
    "try:\n",
    "    name = 'Bob'\n",
    "    name += 5\n",
    "except NameError as ne:\n",
    "    # Code to handle NameError\n",
    "    print(ne)\n",
    "except TypeError as te:\n",
    "    # Code to handle TypeError\n",
    "    print(te)"
   ]
  },
  {
   "cell_type": "markdown",
   "id": "85b32c90",
   "metadata": {},
   "source": [
    "# 7. Write the reason due to which following errors are raised:\n",
    "    \n",
    "a. EOFError\n",
    "\n",
    "b. FloatingPointError\n",
    "\n",
    "c. IndexError\n",
    "\n",
    "d. MemoryError\n",
    "\n",
    "e. OverflowError\n",
    "\n",
    "f. TabError\n",
    "\n",
    "g. ValueError"
   ]
  },
  {
   "cell_type": "markdown",
   "id": "7f8ee71f",
   "metadata": {},
   "source": [
    "a. EOFError : This means \"End-of-Line Error.\" This error occurs when Python has reached the end of user input without receiving any input.\n",
    "\n",
    "b. FloatingPointError : This error occurs when we calcuate in Python and python has a big floating value. like for 10/3 = 3.33333333.......\n",
    "\n",
    "c. IndexError : This error occurs when an attempt is made to access an item in a list at an index which is out of bounds.\n",
    "\n",
    "d. MemoryError : A MemoryError means that the interpreter has run out of memory to allocate to your Python program.\n",
    "\n",
    "e. OverflowError : An OverflowError exception is raised when an arithmetic operation exceeds the limits to be represented.\n",
    "\n",
    "f. TabError : The inconsistent use of tabs and spaces in indentation\" occurs when we mix tabs and spaces in the same code block.\n",
    "\n",
    "g. ValueError : It is raised when a function receives an argument of the correct type but an inappropriate value. Also, the situation should not be described by a more precise exception such as IndexError."
   ]
  },
  {
   "cell_type": "code",
   "execution_count": null,
   "id": "7ccdab9b",
   "metadata": {},
   "outputs": [],
   "source": [
    "# EOFError\n",
    "try:\n",
    "    string = input()\n",
    "    print(string)\n",
    "except EOFError:\n",
    "    print(\"no data provided to input function\")"
   ]
  },
  {
   "cell_type": "code",
   "execution_count": null,
   "id": "baf26237",
   "metadata": {},
   "outputs": [],
   "source": [
    "# FloatingPointError\n",
    "try:\n",
    "    n = int(input(\"Enter num1 : \"))\n",
    "    d = int(input(\"Enter num2 : \"))\n",
    "    result = n / d\n",
    "    print(\"Result : \", result)\n",
    "except FloatingPointError:\n",
    "    print(\"You have a big floating number\")"
   ]
  },
  {
   "cell_type": "code",
   "execution_count": null,
   "id": "c8b5828c",
   "metadata": {},
   "outputs": [],
   "source": [
    "#Index Error\n",
    "try:\n",
    "    list1 =[1, 2, 3, 4]\n",
    "    print(list1[4])\n",
    "except IndexError:\n",
    "    print(\"Index Error\")"
   ]
  },
  {
   "cell_type": "code",
   "execution_count": null,
   "id": "c65fc5c0",
   "metadata": {},
   "outputs": [],
   "source": [
    "# MemoryError\n",
    "try:\n",
    "    big_list = [1] * (10 ** 12)\n",
    "except MemoryError:\n",
    "    print(\"Insufficient memory for the list\")"
   ]
  },
  {
   "cell_type": "code",
   "execution_count": null,
   "id": "5d19897d",
   "metadata": {},
   "outputs": [],
   "source": [
    "# OverflowError\n",
    "try:\n",
    "    result = 5000 ** 10\n",
    "except OverflowError:\n",
    "    print(\"Too Big Calculation\")\n",
    "else:\n",
    "    print(result)"
   ]
  },
  {
   "cell_type": "code",
   "execution_count": null,
   "id": "90f0d63d",
   "metadata": {},
   "outputs": [],
   "source": [
    "# TabError\n",
    "x = int(input('Please enter a positive number:\\n'))\n",
    "try:\n",
    "      print(f'Square Root of {x} is {X**x}')\n",
    "except TabError:\n",
    "    print(\"TabError\")"
   ]
  },
  {
   "cell_type": "code",
   "execution_count": null,
   "id": "e9880836",
   "metadata": {},
   "outputs": [],
   "source": [
    "# ValueError\n",
    "x = int(input('Please enter a positive number:\\n'))\n",
    "try:\n",
    "    print(f'Square Root of {x} is {X**x}')\n",
    "except ValueError:\n",
    "    print(\" ValueError\")"
   ]
  },
  {
   "cell_type": "markdown",
   "id": "06987723",
   "metadata": {},
   "source": [
    "# 8. Write code for the following given scenario and add try-exception block to it.\n",
    "\n",
    "a. Program to divide two numbers\n",
    "\n",
    "b. Program to convert a string to an integer\n",
    "\n",
    "c. Program to access an element in a list\n",
    "\n",
    "d. Program to handle a specific exception\n",
    "\n",
    "e. Program to handle any exception"
   ]
  },
  {
   "cell_type": "markdown",
   "id": "e978f1b5",
   "metadata": {},
   "source": [
    "#ANSWER\n",
    "\n",
    "a. Program to divide two numbers with ZeroDivisionError and ValueError.\n",
    "\n",
    "b. Program to convert a string to an integer with ValueError.\n",
    "\n",
    "c. Program to access an element in a list with IndexError.\n",
    "\n",
    "d. Program to handle a specific exception with key error.\n",
    "\n",
    "e. Program to handle any exception with try & except block only."
   ]
  },
  {
   "cell_type": "code",
   "execution_count": 7,
   "id": "f67a22a2",
   "metadata": {},
   "outputs": [
    {
     "name": "stdout",
     "output_type": "stream",
     "text": [
      "Enter num1 : 6\n",
      "Enter num2 : 2\n",
      "Result :  3.0\n"
     ]
    }
   ],
   "source": [
    "# Program to divide two numbers\n",
    "try:\n",
    "    n = int(input(\"Enter num1 : \"))\n",
    "    d = int(input(\"Enter num2 : \"))\n",
    "    \n",
    "    result = n / d\n",
    "    print(\"Result : \", result)\n",
    "except ZeroDivisionError:\n",
    "    print(\"You have divided the number by zero\")\n",
    "except ValueError:\n",
    "    print(\"It should interger but you entered float\")"
   ]
  },
  {
   "cell_type": "code",
   "execution_count": 8,
   "id": "7932ee21",
   "metadata": {},
   "outputs": [
    {
     "name": "stdout",
     "output_type": "stream",
     "text": [
      "123\n"
     ]
    }
   ],
   "source": [
    "# Program to convert a string to an integer\n",
    "string = \"123\"\n",
    "try:\n",
    "    string_int = int(string)\n",
    "    print(string_int)\n",
    "except ValueError:\n",
    "    # Handle the exception\n",
    "    print('Please enter an integer')"
   ]
  },
  {
   "cell_type": "code",
   "execution_count": 9,
   "id": "b57a4fa0",
   "metadata": {},
   "outputs": [
    {
     "name": "stdout",
     "output_type": "stream",
     "text": [
      "Index Error\n"
     ]
    }
   ],
   "source": [
    "# Program to access an element in a list\n",
    "try:\n",
    "    list1 =[1, 2, 3, 4]\n",
    "    print(list1[4])\n",
    "except IndexError:\n",
    "    print(\"Index Error\")"
   ]
  },
  {
   "cell_type": "code",
   "execution_count": 10,
   "id": "e98c27c4",
   "metadata": {},
   "outputs": [
    {
     "name": "stdout",
     "output_type": "stream",
     "text": [
      "KeyError error occurred.\n"
     ]
    }
   ],
   "source": [
    "# Program to handle a specific exception - key error\n",
    "try:\n",
    "    my_dictionary = {\"name\": \"John\", \"age\": 30}\n",
    "    print(my_dictionary[\"city\"])  # Accessing a KEY which does not exist\n",
    "except KeyError:\n",
    "    print(\"KeyError error occurred.\")"
   ]
  },
  {
   "cell_type": "code",
   "execution_count": 12,
   "id": "31197f25",
   "metadata": {},
   "outputs": [
    {
     "name": "stdout",
     "output_type": "stream",
     "text": [
      "Error occurred.\n"
     ]
    }
   ],
   "source": [
    "# Program to handle any exception\n",
    "try:\n",
    "    my_dictionary = {\"name\": \"John\", \"age\": 30}\n",
    "    print(my_dictionary[\"city\"])  # Accessing a KEY which does not exist\n",
    "except:\n",
    "    print(\"Error occurred.\")"
   ]
  }
 ],
 "metadata": {
  "kernelspec": {
   "display_name": "Python 3 (ipykernel)",
   "language": "python",
   "name": "python3"
  },
  "language_info": {
   "codemirror_mode": {
    "name": "ipython",
    "version": 3
   },
   "file_extension": ".py",
   "mimetype": "text/x-python",
   "name": "python",
   "nbconvert_exporter": "python",
   "pygments_lexer": "ipython3",
   "version": "3.10.9"
  }
 },
 "nbformat": 4,
 "nbformat_minor": 5
}
