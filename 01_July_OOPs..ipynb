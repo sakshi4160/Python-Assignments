{
 "cells": [
  {
   "cell_type": "markdown",
   "id": "cea6a3b4",
   "metadata": {},
   "source": [
    "# 1. What is the primary goal of Object-Oriented Programming (OOP)?"
   ]
  },
  {
   "cell_type": "markdown",
   "id": "d677d9b1",
   "metadata": {},
   "source": [
    "These sub-goals are directed at the production of quality software, including good implementations of data structures and algorithms.OOP aims to model real-world entities or concepts as objects, which encapsulate data (attributes) and behavior (methods) into self-contained units.like we can use - modularity , encapsulation, abstraction , polymorphism , inheritance etc."
   ]
  },
  {
   "cell_type": "markdown",
   "id": "19bcac21",
   "metadata": {},
   "source": [
    "# 2. What is an object in Python?"
   ]
  },
  {
   "cell_type": "markdown",
   "id": "411eb3e3",
   "metadata": {},
   "source": [
    "Objects are created from a class by calling the class as if it were a function. This process is called instantiation. When an object is created, it is known as an instance of the class. Each instance has its own unique identity and can have different attribute values."
   ]
  },
  {
   "cell_type": "markdown",
   "id": "792a499a",
   "metadata": {},
   "source": [
    "#  3. What is a class in Python?"
   ]
  },
  {
   "cell_type": "markdown",
   "id": "8d7b929a",
   "metadata": {},
   "source": [
    "Class is a blueprint of an object.class is a user defined data type. class is defined using the class keyword followed by the class name. The class definition can include variables and methods that define the behavior of objects created from that class."
   ]
  },
  {
   "cell_type": "markdown",
   "id": "6de9e95f",
   "metadata": {},
   "source": [
    "# 4. What are attributes and methods in a class?"
   ]
  },
  {
   "cell_type": "markdown",
   "id": "80116eff",
   "metadata": {},
   "source": [
    "Class attributes are variables that are shared among all instances of the class. They are defined within the class but outside any methods. Instance attributes are specific to each object instance and are defined within methods or the special init() method."
   ]
  },
  {
   "cell_type": "markdown",
   "id": "b4f1fcc3",
   "metadata": {},
   "source": [
    "# 5. What is the difference between class variables and instance variables in Python?"
   ]
  },
  {
   "cell_type": "markdown",
   "id": "b648e5b7",
   "metadata": {},
   "source": [
    "Class variables are shared among all instances of a class, while instance variables are specific to each object instance. Class variables are defined outside any method, while instance variables are typically defined within the init() method."
   ]
  },
  {
   "cell_type": "code",
   "execution_count": 4,
   "id": "c6520a21",
   "metadata": {},
   "outputs": [],
   "source": [
    "class Student:\n",
    "    def __init__(self, name, grade):\n",
    "        self.name = name  # Instance variable\n",
    "        self.grade = grade  # Instance variable\n"
   ]
  },
  {
   "cell_type": "code",
   "execution_count": 7,
   "id": "8d8a14dc",
   "metadata": {},
   "outputs": [
    {
     "name": "stdout",
     "output_type": "stream",
     "text": [
      "sakshi\n",
      "A\n"
     ]
    }
   ],
   "source": [
    "student1=Student(\"sakshi\",\"A\")\n",
    "print(student1.name)\n",
    "print(student1.grade)"
   ]
  },
  {
   "cell_type": "code",
   "execution_count": 9,
   "id": "4ceab5fc",
   "metadata": {},
   "outputs": [
    {
     "name": "stdout",
     "output_type": "stream",
     "text": [
      "kiara\n",
      "A+\n"
     ]
    }
   ],
   "source": [
    "student2=Student(\"kiara\",\"A+\")\n",
    "print(student2.name)\n",
    "print(student2.grade)"
   ]
  },
  {
   "cell_type": "code",
   "execution_count": 13,
   "id": "3f483b15",
   "metadata": {},
   "outputs": [
    {
     "name": "stdout",
     "output_type": "stream",
     "text": [
      "A+\n",
      "A+\n"
     ]
    }
   ],
   "source": [
    "student1.grade = \"A+\"   # Modifying the instance variable\n",
    "\n",
    "print(student1.grade)  # Output: A+\n",
    "print(student2.grade)  # Output: A+ (unchanged)"
   ]
  },
  {
   "cell_type": "code",
   "execution_count": 17,
   "id": "a367d82c",
   "metadata": {},
   "outputs": [
    {
     "name": "stdout",
     "output_type": "stream",
     "text": [
      "75.0\n",
      "200.0\n"
     ]
    }
   ],
   "source": [
    "class BankAccount:\n",
    "    interest_rate = 0.05  # Class variable\n",
    "\n",
    "    def __init__(self, account_number, balance):\n",
    "        self.account_number = account_number  # Instance variable\n",
    "        self.balance = balance  # Instance variable\n",
    "\n",
    "    def calculate_interest(self):\n",
    "        return self.balance * BankAccount.interest_rate\n",
    "\n",
    "# Creating instances of BankAccount\n",
    "account1 = BankAccount(\"124578\", 1500)\n",
    "account2 = BankAccount(\"876524\", 4000)\n",
    "\n",
    "# Calculating interest using the class variable\n",
    "interest1 = account1.calculate_interest()\n",
    "interest2 = account2.calculate_interest()\n",
    "\n",
    "print(interest1)  \n",
    "print(interest2)  "
   ]
  },
  {
   "cell_type": "markdown",
   "id": "3c06260f",
   "metadata": {},
   "source": [
    "# 6. What is the purpose of the self parameter in Python class methods?"
   ]
  },
  {
   "cell_type": "markdown",
   "id": "6f8d5da3",
   "metadata": {},
   "source": [
    " self parameter in class methods serves as a reference to the instance of the object that the method is being called on. the first parameter of any instance method in a class is self, I can choose a different name if I prefer. When a method is called on an object, the self parameter is automatically passed as a reference to that object."
   ]
  },
  {
   "cell_type": "code",
   "execution_count": 20,
   "id": "d91acdba",
   "metadata": {},
   "outputs": [
    {
     "data": {
      "text/plain": [
       "'sakshi'"
      ]
     },
     "execution_count": 20,
     "metadata": {},
     "output_type": "execute_result"
    }
   ],
   "source": [
    "class Person:\n",
    "    def __init__(self, name):\n",
    "        self.name = name\n",
    "\n",
    "    def greet(self):\n",
    "        print(f\"Hello, my name is, {self.name}\")\n",
    "\n",
    "# Creating an object of the Person class\n",
    "person1 = Person(\"sakshi\")\n",
    "\n",
    "# Accessing the object's attribute using self\n",
    "person1.name"
   ]
  },
  {
   "cell_type": "markdown",
   "id": "d91eaa1b",
   "metadata": {},
   "source": [
    "# 7. For a library management system, you have to design the \"Book\" class with OOP\n",
    "\n"
   ]
  },
  {
   "cell_type": "markdown",
   "id": "d12c848b",
   "metadata": {},
   "source": [
    "#principles in mind. The “Book” class will have following attributes:\n",
    "\n",
    "a. title: Represents the title of the book.\n",
    "\n",
    "b. author: Represents the author(s) of the book.\n",
    "\n",
    "c. isbn: Represents the ISBN (International Standard Book Number) of the book.\n",
    "\n",
    "d. publication_year: Represents the year of publication of the book.\n",
    "\n",
    "e. available_copies: Represents the number of copies available for checkout.\n",
    "\n",
    "#The class will also include the following methods:\n",
    "\n",
    "a. check_out(self): Decrements the available copies by one if there are copies\n",
    "\n",
    "available for checkout.\n",
    "\n",
    "b. return_book(self): Increments the available copies by one when a book is\n",
    "\n",
    "returned.\n",
    "\n",
    "c. display_book_info(self): Displays the information about the book, including its\n",
    "attributes and the number of available copies."
   ]
  },
  {
   "cell_type": "code",
   "execution_count": 36,
   "id": "395f0f86",
   "metadata": {},
   "outputs": [],
   "source": [
    "class Book:\n",
    "    def __init__(self,title,author,isbn,publication_year,available_copies):\n",
    "        self.title=title\n",
    "        self.author=author\n",
    "        self.isbn=isbn\n",
    "        self.publication_year=publication_year\n",
    "        self.available_copies=available_copies\n",
    "        \n",
    "    def check_out(self):\n",
    "        if self.available_copies > 0:\n",
    "            self.available_copies -= 1\n",
    "            print(f\"The available copies are {self.available_copies}\")\n",
    "        else:\n",
    "            print(\"Sorry, copies are not available\")\n",
    "            \n",
    "    def return_book(self):\n",
    "        self.available_copies += 1\n",
    "        print(f\"The available copies are {self.available_copies}\")\n",
    "            \n",
    "    def display_book_info(self):\n",
    "        print(f\"The title of Book is {self.title}\")\n",
    "        print(f\"The author is {self.author}\")\n",
    "        print(f\"The isbn is {self.isbn}\")\n",
    "        print(f\"The publication_year is {self.publication_year}\")\n",
    "        print(f\"The available_copies is {self.available_copies}\")\n",
    "              "
   ]
  },
  {
   "cell_type": "code",
   "execution_count": 37,
   "id": "0759d9c9",
   "metadata": {},
   "outputs": [],
   "source": [
    "book1 = Book(\"Atomic Habits\", \"James Clear\", \"9561204512\", 2018, 20)"
   ]
  },
  {
   "cell_type": "code",
   "execution_count": 38,
   "id": "3fdef099",
   "metadata": {},
   "outputs": [
    {
     "name": "stdout",
     "output_type": "stream",
     "text": [
      "The title of Book is Atomic Habits\n",
      "The author is James Clear\n",
      "The isbn is 9561204512\n",
      "The publication_year is 2018\n",
      "The available_copies is 20\n"
     ]
    }
   ],
   "source": [
    "book1.display_book_info()"
   ]
  },
  {
   "cell_type": "code",
   "execution_count": 39,
   "id": "bd495f59",
   "metadata": {},
   "outputs": [
    {
     "name": "stdout",
     "output_type": "stream",
     "text": [
      "The available copies are 19\n"
     ]
    }
   ],
   "source": [
    "book1.check_out()"
   ]
  },
  {
   "cell_type": "code",
   "execution_count": 40,
   "id": "7a093d52",
   "metadata": {},
   "outputs": [
    {
     "name": "stdout",
     "output_type": "stream",
     "text": [
      "The available copies are 20\n"
     ]
    }
   ],
   "source": [
    "book1.return_book()"
   ]
  },
  {
   "cell_type": "markdown",
   "id": "542ab748",
   "metadata": {},
   "source": [
    "# 8. For a ticket booking system, you have to design the \"Ticket\" class with OOP\n",
    "\n",
    "#principles in mind. The “Ticket” class should have the following attributes:\n",
    "\n",
    "a. ticket_id: Represents the unique identifier for the ticket.\n",
    "\n",
    "b. event_name: Represents the name of the event.\n",
    "\n",
    "c. event_date: Represents the date of the event.\n",
    "\n",
    "d. venue: Represents the venue of the event.\n",
    "\n",
    "e. seat_number: Represents the seat number associated with the ticket.\n",
    "\n",
    "f. price: Represents the price of the ticket.\n",
    "\n",
    "g. is_reserved: Represents the reservation status of the ticket.\n",
    "\n",
    "#The class also includes the following methods:\n",
    "\n",
    "a. reserve_ticket(self): Marks the ticket as reserved if it is not already reserved.\n",
    "\n",
    "b. cancel_reservation(self): Cancels the reservation of the ticket if it is already\n",
    "reserved.\n",
    "\n",
    "c. display_ticket_info(self): Displays the information about the ticket, including its\n",
    "attributes and reservation status."
   ]
  },
  {
   "cell_type": "code",
   "execution_count": 24,
   "id": "bbc80860",
   "metadata": {},
   "outputs": [],
   "source": [
    "class Ticket:\n",
    "    def __init__(self,ticket_id,event_name,event_date,venue,seat_number,price):\n",
    "        self.ticket_id=ticket_id\n",
    "        self.event_name=event_name\n",
    "        self.event_date=event_date\n",
    "        self.venue=venue\n",
    "        self.seat_number=seat_number\n",
    "        self.price=price\n",
    "        self.is_reserved=False\n",
    "        \n",
    "    def reserve_tickets(self):\n",
    "        if not self.is_reserved:\n",
    "            self.is_reserved=True\n",
    "            print(\"Ticket is reserved.\")\n",
    "        else:\n",
    "            print(\"Tickets are not available\")\n",
    "            \n",
    "    def cancel_reservation(self):\n",
    "        if self.is_reserved:\n",
    "            self.is_reserved=False\n",
    "            print(\"Ticket reservation cancelled.\")\n",
    "        else:\n",
    "            print(\"Ticket is not yet reserved.\")\n",
    "            \n",
    "    def display_ticket_info(self):\n",
    "        print(f\"The ticket_id is {self.ticket_id}\")\n",
    "        print(f\"The event_name is {self.event_name}\")\n",
    "        print(f\"The event_date is {self.event_date}\")\n",
    "        print(f\"The venue is {self.venue}\")\n",
    "        print(f\"The seat_number is {self.seat_number}\")\n",
    "        print(f\"The price is {self.price}\")\n",
    "        print(\"The tickets are:\", \"Reserved\" if self.is_reserved else \"Not reserved\")\n",
    "            "
   ]
  },
  {
   "cell_type": "code",
   "execution_count": 25,
   "id": "9c81c458",
   "metadata": {},
   "outputs": [],
   "source": [
    "ticket1=Ticket(\"CNAR1234\",\"Movie\",\"07-07-23\",\"ABC Theatre\", \"A10\", 550)"
   ]
  },
  {
   "cell_type": "code",
   "execution_count": 26,
   "id": "100d9d36",
   "metadata": {},
   "outputs": [
    {
     "name": "stdout",
     "output_type": "stream",
     "text": [
      "The ticket_id is CNAR1234\n",
      "The event_name is Movie\n",
      "The event_date is 07-07-23\n",
      "The venue is ABC Theatre\n",
      "The seat_number is A10\n",
      "The price is 550\n",
      "The tickets are: Not reserved\n"
     ]
    }
   ],
   "source": [
    "ticket1.display_ticket_info()"
   ]
  },
  {
   "cell_type": "code",
   "execution_count": 27,
   "id": "077d346d",
   "metadata": {},
   "outputs": [
    {
     "data": {
      "text/plain": [
       "550"
      ]
     },
     "execution_count": 27,
     "metadata": {},
     "output_type": "execute_result"
    }
   ],
   "source": [
    "ticket1.price"
   ]
  },
  {
   "cell_type": "code",
   "execution_count": 28,
   "id": "8879f5be",
   "metadata": {},
   "outputs": [
    {
     "name": "stdout",
     "output_type": "stream",
     "text": [
      "Ticket is reserved.\n"
     ]
    }
   ],
   "source": [
    "ticket1.reserve_tickets()"
   ]
  },
  {
   "cell_type": "code",
   "execution_count": 29,
   "id": "a65717d4",
   "metadata": {},
   "outputs": [
    {
     "name": "stdout",
     "output_type": "stream",
     "text": [
      "The ticket_id is CNAR1234\n",
      "The event_name is Movie\n",
      "The event_date is 07-07-23\n",
      "The venue is ABC Theatre\n",
      "The seat_number is A10\n",
      "The price is 550\n",
      "The tickets are: Reserved\n"
     ]
    }
   ],
   "source": [
    "ticket1.display_ticket_info()"
   ]
  },
  {
   "cell_type": "code",
   "execution_count": 30,
   "id": "9e7f18d5",
   "metadata": {},
   "outputs": [
    {
     "name": "stdout",
     "output_type": "stream",
     "text": [
      "Ticket reservation cancelled.\n"
     ]
    }
   ],
   "source": [
    "ticket1.cancel_reservation()"
   ]
  },
  {
   "cell_type": "code",
   "execution_count": 31,
   "id": "a7ab512d",
   "metadata": {},
   "outputs": [
    {
     "name": "stdout",
     "output_type": "stream",
     "text": [
      "The ticket_id is CNAR1234\n",
      "The event_name is Movie\n",
      "The event_date is 07-07-23\n",
      "The venue is ABC Theatre\n",
      "The seat_number is A10\n",
      "The price is 550\n",
      "The tickets are: Not reserved\n"
     ]
    }
   ],
   "source": [
    "ticket1.display_ticket_info()"
   ]
  },
  {
   "cell_type": "markdown",
   "id": "29ad9a27",
   "metadata": {},
   "source": [
    "# 9. You are creating a shopping cart for an e-commerce website. Using OOP to model\n",
    "the \"ShoppingCart\" functionality the class should contain following attributes and\n",
    "methods:\n",
    "    \n",
    "a. items: Represents the list of items in the shopping cart.\n",
    "    \n",
    "The class also includes the following methods:\n",
    "\n",
    "a. add_item(self, item): Adds an item to the shopping cart by appending it to the\n",
    "list of items.\n",
    "\n",
    "b. remove_item(self, item): Removes an item from the shopping cart if it exists in\n",
    "the list.\n",
    "\n",
    "c. view_cart(self): Displays the items currently present in the shopping cart.\n",
    "    \n",
    "d. clear_cart(self): Clears all items from the shopping cart by reassigning an\n",
    "empty list to the items attribute."
   ]
  },
  {
   "cell_type": "code",
   "execution_count": 2,
   "id": "836d5e64",
   "metadata": {},
   "outputs": [],
   "source": [
    "class Shopping:\n",
    "    def __init__(self):\n",
    "        self.shopping_cart=[ ]\n",
    "        \n",
    "    def add_item(self,item):\n",
    "        self.shopping_cart.append(item)\n",
    "        print(\"The items are added.\")\n",
    "        print(f\"The added items are {self.shopping_cart}\")\n",
    "        \n",
    "    def remove_item(self,item):\n",
    "        if item in self.shopping_cart:\n",
    "            self.shopping_cart.remove(item)           \n",
    "            print(\"Item removed from shopping cart.\")\n",
    "        else:\n",
    "            print(\"Item is not present in Shopping cart.\")\n",
    "               \n",
    "    def view_cart(self):\n",
    "        if self.shopping_cart:\n",
    "            print(\"self.shopping_cart:\")\n",
    "            for item in self.shopping_cart:\n",
    "                print(\"- \",item)\n",
    "        else:\n",
    "            print(\"Cart is empty.\")\n",
    "            \n",
    "    def clear_cart(self):\n",
    "        self.shopping_cart=[ ]\n",
    "        print(\"Shopping Cart is cleared\")\n",
    "        "
   ]
  },
  {
   "cell_type": "code",
   "execution_count": 3,
   "id": "dc92076d",
   "metadata": {},
   "outputs": [],
   "source": [
    "cart1= Shopping()"
   ]
  },
  {
   "cell_type": "code",
   "execution_count": 4,
   "id": "850cf5a7",
   "metadata": {},
   "outputs": [
    {
     "name": "stdout",
     "output_type": "stream",
     "text": [
      "The items are added.\n",
      "The added items are ['Apple']\n",
      "The items are added.\n",
      "The added items are ['Apple', 'Kiwi']\n"
     ]
    }
   ],
   "source": [
    "cart1.add_item(\"Apple\")\n",
    "cart1.add_item(\"Kiwi\")"
   ]
  },
  {
   "cell_type": "code",
   "execution_count": 5,
   "id": "62fca21b",
   "metadata": {},
   "outputs": [
    {
     "name": "stdout",
     "output_type": "stream",
     "text": [
      "Item removed from shopping cart.\n"
     ]
    }
   ],
   "source": [
    "cart1.remove_item(\"Apple\")"
   ]
  },
  {
   "cell_type": "code",
   "execution_count": 6,
   "id": "8df7806e",
   "metadata": {},
   "outputs": [
    {
     "name": "stdout",
     "output_type": "stream",
     "text": [
      "self.shopping_cart:\n",
      "-  Kiwi\n"
     ]
    }
   ],
   "source": [
    "cart1.view_cart()"
   ]
  },
  {
   "cell_type": "code",
   "execution_count": 7,
   "id": "4bd7a002",
   "metadata": {},
   "outputs": [
    {
     "name": "stdout",
     "output_type": "stream",
     "text": [
      "Shopping Cart is cleared\n"
     ]
    }
   ],
   "source": [
    "cart1.clear_cart()"
   ]
  },
  {
   "cell_type": "code",
   "execution_count": 8,
   "id": "cb74cae3",
   "metadata": {},
   "outputs": [
    {
     "name": "stdout",
     "output_type": "stream",
     "text": [
      "Cart is empty.\n"
     ]
    }
   ],
   "source": [
    "cart1.view_cart()"
   ]
  },
  {
   "cell_type": "markdown",
   "id": "d6fb2cb2",
   "metadata": {},
   "source": [
    "# 10. Imagine a school management system. You have to design the \"Student\" class using OOP concepts.The “Student” class has the following attributes:\n",
    "    \n",
    "a. name: Represents the name of the student.\n",
    "\n",
    "b. age: Represents the age of the student.\n",
    "    \n",
    "c. grade: Represents the grade or class of the student.\n",
    "\n",
    "d. student_id: Represents the unique identifier for the student.\n",
    "\n",
    "e. attendance: Represents the attendance record of the student.\n",
    "\n",
    "#The class should also include the following methods:\n",
    "\n",
    "a. update_attendance(self, date, status): Updates the attendance record of the\n",
    "student for a given date with the provided status (e.g., present or absent).\n",
    "\n",
    "b. get_attendance(self): Returns the attendance record of the student.\n",
    "\n",
    "c. get_average_attendance(self): Calculates and returns the average\n",
    "attendance percentage of the student based on their attendance record."
   ]
  },
  {
   "cell_type": "code",
   "execution_count": 60,
   "id": "ce39f115",
   "metadata": {},
   "outputs": [],
   "source": [
    "class Student():\n",
    "    def __init__(self,name,age,grade,student_id):\n",
    "        self.name=name\n",
    "        self.age=age\n",
    "        self.grade=grade\n",
    "        self.student_id=student_id\n",
    "        self.attendance={ }\n",
    "        \n",
    "    def update_attendance(self, date, status):\n",
    "        self.attendance[date]=status\n",
    "        \n",
    "    def get_attendance(self):\n",
    "        return self.attendance\n",
    "    \n",
    "    def get_average_attendance(self):\n",
    "        total_days = len(self.attendance)\n",
    "        present_days = sum(status == 'present' for status in self.attendance.values())\n",
    "        if total_days > 0:\n",
    "            average_attendance = (present_days / total_days) * 100\n",
    "            return average_attendance\n",
    "        else:\n",
    "            return 0\n",
    "        "
   ]
  },
  {
   "cell_type": "code",
   "execution_count": 61,
   "id": "e3d76e3a",
   "metadata": {},
   "outputs": [],
   "source": [
    "student1=Student(\"sakshi\",18,12,\"1234\")\n",
    "student2=Student(\"kiara\",18,12,\"5264\")"
   ]
  },
  {
   "cell_type": "code",
   "execution_count": 70,
   "id": "31fb558a",
   "metadata": {},
   "outputs": [],
   "source": [
    "student1.update_attendance(\"2023-07-04\",\"Present\")\n",
    "student1.update_attendance(\"2023-07-05\",\"Absent\")\n",
    "student1.update_attendance(\"2023-07-06\", \"present\")\n",
    "student1.update_attendance(\"2023-07-07\", \"present\")\n",
    "student1.update_attendance(\"2023-07-08\", \"absent\")"
   ]
  },
  {
   "cell_type": "code",
   "execution_count": 71,
   "id": "fb40abb5",
   "metadata": {},
   "outputs": [],
   "source": [
    "student2.update_attendance(\"2023-07-04\",\"Absent\")\n",
    "student2.update_attendance(\"2023-07-05\",\"Absent\")\n",
    "student2.update_attendance(\"2023-07-06\", \"absent\")\n",
    "student2.update_attendance(\"2023-07-07\", \"present\")\n",
    "student2.update_attendance(\"2023-07-08\", \"present\")"
   ]
  },
  {
   "cell_type": "code",
   "execution_count": 72,
   "id": "7607c2f1",
   "metadata": {},
   "outputs": [
    {
     "name": "stdout",
     "output_type": "stream",
     "text": [
      "{'2023-07-04': 'Present', '2023-07-05': 'Absent', '2023-07-06': 'present', '2023-07-07': 'present', '2023-07-08': 'absent'}\n",
      "{'2023-07-04': 'Absent', '2023-07-05': 'Absent', '2023-07-06': 'absent', '2023-07-07': 'present', '2023-07-08': 'present'}\n"
     ]
    }
   ],
   "source": [
    "print(student1.get_attendance())\n",
    "print(student2.get_attendance())"
   ]
  },
  {
   "cell_type": "code",
   "execution_count": 73,
   "id": "7c099a1e",
   "metadata": {},
   "outputs": [
    {
     "name": "stdout",
     "output_type": "stream",
     "text": [
      "Average attendance for sakshi: 40.0%\n",
      "Average attendance for kiara: 40.0%\n"
     ]
    }
   ],
   "source": [
    "print(f\"Average attendance for {student1.name}: {student1.get_average_attendance()}%\")\n",
    "print(f\"Average attendance for {student2.name}: {student2.get_average_attendance()}%\")"
   ]
  }
 ],
 "metadata": {
  "kernelspec": {
   "display_name": "Python 3 (ipykernel)",
   "language": "python",
   "name": "python3"
  },
  "language_info": {
   "codemirror_mode": {
    "name": "ipython",
    "version": 3
   },
   "file_extension": ".py",
   "mimetype": "text/x-python",
   "name": "python",
   "nbconvert_exporter": "python",
   "pygments_lexer": "ipython3",
   "version": "3.10.9"
  }
 },
 "nbformat": 4,
 "nbformat_minor": 5
}
