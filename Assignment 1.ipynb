{
 "cells": [
  {
   "cell_type": "markdown",
   "id": "2d6c9585",
   "metadata": {},
   "source": [
    "# Python Assignment 1"
   ]
  },
  {
   "cell_type": "markdown",
   "id": "f9be5200",
   "metadata": {},
   "source": [
    "# 1. In the below elements which of them are values or an expression? eg:- values can be\n",
    "integer or string and expressions will be mathematical operators.\n",
    "\n",
    "*\n",
    "\n",
    "'hello'\n",
    "\n",
    "-87.8\n",
    "\n",
    "-\n",
    "\n",
    "/\n",
    "\n",
    "+\n",
    "\n",
    "6"
   ]
  },
  {
   "cell_type": "markdown",
   "id": "1272cde3",
   "metadata": {},
   "source": [
    "#ANSWER: \n",
    "\n",
    "VALUES:\n",
    "\n",
    "'hello' : This is a string value.\n",
    "-87.8   : This is a float value.\n",
    "6       : This is an integer value\n",
    "\n",
    "\n",
    "EXPRESSION:\n",
    "\n",
    "*  : multiplication operator\n",
    "-  : subtraction operator\n",
    "/  : division operator\n",
    "+  : addition operator\n",
    "\n",
    "\n"
   ]
  },
  {
   "cell_type": "raw",
   "id": "9d763c79",
   "metadata": {},
   "source": []
  },
  {
   "cell_type": "raw",
   "id": "4ebeb9d9",
   "metadata": {},
   "source": []
  },
  {
   "cell_type": "markdown",
   "id": "327a793b",
   "metadata": {},
   "source": [
    "# 2. What is the difference between string and variable?"
   ]
  },
  {
   "cell_type": "markdown",
   "id": "89d4de67",
   "metadata": {},
   "source": [
    "1] String : Strings are data which we can use them to fill up a variable."
   ]
  },
  {
   "cell_type": "code",
   "execution_count": 1,
   "id": "55a65551",
   "metadata": {},
   "outputs": [
    {
     "name": "stdout",
     "output_type": "stream",
     "text": [
      "Hello Sakshi\n"
     ]
    }
   ],
   "source": [
    "text = \"Hello Sakshi\"\n",
    "print(text)"
   ]
  },
  {
   "cell_type": "markdown",
   "id": "40e57578",
   "metadata": {},
   "source": [
    "Here, the string \"Hello Sakshi\" is stored in the variable text.\n",
    "when we print the variable text, it displays the string \"Hello Sakshi\"."
   ]
  },
  {
   "cell_type": "raw",
   "id": "883b3ee8",
   "metadata": {},
   "source": []
  },
  {
   "cell_type": "markdown",
   "id": "87d60f37",
   "metadata": {},
   "source": [
    "2] Variable : Variable is name location which is used to store data in memory."
   ]
  },
  {
   "cell_type": "code",
   "execution_count": 2,
   "id": "577ff207",
   "metadata": {},
   "outputs": [
    {
     "name": "stdout",
     "output_type": "stream",
     "text": [
      "Sakshi\n"
     ]
    }
   ],
   "source": [
    "name = \"Sakshi\"\n",
    "print(name)"
   ]
  },
  {
   "cell_type": "markdown",
   "id": "122a43d2",
   "metadata": {},
   "source": [
    "Here, the variable name holds the string value \"Sakshi\"\n",
    "when I print the name variable then it displays the string \"Sakshi\"."
   ]
  },
  {
   "cell_type": "raw",
   "id": "71d77a24",
   "metadata": {},
   "source": []
  },
  {
   "cell_type": "raw",
   "id": "8e1afe4a",
   "metadata": {},
   "source": []
  },
  {
   "cell_type": "markdown",
   "id": "e7276272",
   "metadata": {},
   "source": [
    "# 3. Describe three different data types. "
   ]
  },
  {
   "cell_type": "markdown",
   "id": "0ecca4dc",
   "metadata": {},
   "source": [
    "1] Integer : They are whole numbers, without a fractional component. \n",
    "              They can be positive or negative."
   ]
  },
  {
   "cell_type": "markdown",
   "id": "17e12e3f",
   "metadata": {},
   "source": [
    "#example : \n",
    "\n",
    "age = 22\n",
    "numer of students = 30"
   ]
  },
  {
   "cell_type": "code",
   "execution_count": 3,
   "id": "2b33264e",
   "metadata": {},
   "outputs": [
    {
     "data": {
      "text/plain": [
       "int"
      ]
     },
     "execution_count": 3,
     "metadata": {},
     "output_type": "execute_result"
    }
   ],
   "source": [
    "a=22\n",
    "type(a)"
   ]
  },
  {
   "cell_type": "raw",
   "id": "95d79bd6",
   "metadata": {},
   "source": []
  },
  {
   "cell_type": "raw",
   "id": "82ab2335",
   "metadata": {},
   "source": [
    "2] Float: It represent real numbers and are written with a decimal point."
   ]
  },
  {
   "cell_type": "markdown",
   "id": "2d973275",
   "metadata": {},
   "source": [
    "#example : \n",
    "\n",
    "percentage = 94.60\n",
    "pi = 3.14"
   ]
  },
  {
   "cell_type": "code",
   "execution_count": 4,
   "id": "db15c850",
   "metadata": {},
   "outputs": [
    {
     "data": {
      "text/plain": [
       "float"
      ]
     },
     "execution_count": 4,
     "metadata": {},
     "output_type": "execute_result"
    }
   ],
   "source": [
    "b=3.14\n",
    "type(b)"
   ]
  },
  {
   "cell_type": "raw",
   "id": "b401d178",
   "metadata": {},
   "source": []
  },
  {
   "cell_type": "markdown",
   "id": "cc025ea6",
   "metadata": {},
   "source": [
    "3] String : They are sequences of character data. \n",
    "            They are created by enclosing characters in quotes."
   ]
  },
  {
   "cell_type": "markdown",
   "id": "4310271e",
   "metadata": {},
   "source": [
    "#example : \n",
    "\n",
    "name = \"sakshi\"\n",
    "city = \"Pune\""
   ]
  },
  {
   "cell_type": "code",
   "execution_count": 5,
   "id": "797a43e7",
   "metadata": {},
   "outputs": [
    {
     "data": {
      "text/plain": [
       "str"
      ]
     },
     "execution_count": 5,
     "metadata": {},
     "output_type": "execute_result"
    }
   ],
   "source": [
    "c=\"sakshi\"\n",
    "type(c)"
   ]
  },
  {
   "cell_type": "raw",
   "id": "407d32c4",
   "metadata": {},
   "source": []
  },
  {
   "cell_type": "markdown",
   "id": "1a33c31d",
   "metadata": {},
   "source": [
    "# 4. What is an expression made up of? What do all expressions do?"
   ]
  },
  {
   "cell_type": "markdown",
   "id": "d99741c0",
   "metadata": {},
   "source": [
    "An expression is a combination of values, variables, operators, and calls to functions.\n",
    "\n",
    "The purpose of expression is to produce a value\n",
    "\n",
    "They are used to perform computations, manipulate data, and generate results.\n",
    "\n",
    "Expressions can involve arithmetic operations like addition, subtraction, multiplication, division, etc. \n",
    "comparison operator like equality, greater than, less than, etc. \n",
    "logical operations like and, or, not, and more."
   ]
  },
  {
   "cell_type": "code",
   "execution_count": 6,
   "id": "1b59a41d",
   "metadata": {},
   "outputs": [
    {
     "name": "stdout",
     "output_type": "stream",
     "text": [
      "10\n",
      "2\n",
      "1.5\n",
      "24\n",
      "1296\n",
      "1\n",
      "False\n",
      "True\n",
      "True\n",
      "False\n",
      "True\n",
      "True\n",
      "False\n"
     ]
    }
   ],
   "source": [
    "a=6\n",
    "b=4\n",
    "\n",
    "print(a + b)\n",
    "\n",
    "print(a - b)\n",
    "\n",
    "print(a / b)\n",
    "\n",
    "print(a * b)\n",
    "\n",
    "print(a ** b)\n",
    "\n",
    "print(a // b)\n",
    "\n",
    "print(a < b)\n",
    "\n",
    "print(a > b)\n",
    "\n",
    "print(a > b)\n",
    "\n",
    "print(a == b)\n",
    "\n",
    "print(a != b)\n",
    "\n",
    "print(a >= b)\n",
    "\n",
    "print(a <= b)\n",
    "\n"
   ]
  },
  {
   "cell_type": "raw",
   "id": "0cbdb574",
   "metadata": {},
   "source": []
  },
  {
   "cell_type": "raw",
   "id": "b9620951",
   "metadata": {},
   "source": []
  },
  {
   "cell_type": "markdown",
   "id": "4c4841a5",
   "metadata": {},
   "source": [
    "\n",
    "# 5.This assignment statements, like spam = 10. What is the difference between an expression and a statement?"
   ]
  },
  {
   "cell_type": "markdown",
   "id": "9907d8f0",
   "metadata": {},
   "source": [
    "The main difference between an expression and a statement is their purpose and behavior within program.\n",
    "\n",
    "1]Expression:\n",
    "\n",
    "An expression is a combination of values, variables, operators, and function calls that evaluates to a single value.\n",
    "Examples of expressions include mathematical operations (2 + 3).\n",
    "\n",
    "2]Statement:\n",
    "    \n",
    "A statement is a complete instruction that performs an action or controls the flow of a program.\n",
    "It contain expressions as part of its execution.\n",
    "Example of statement include variable assignments (spam = 10).\n"
   ]
  },
  {
   "cell_type": "raw",
   "id": "17a29419",
   "metadata": {},
   "source": []
  },
  {
   "cell_type": "raw",
   "id": "4847f0f9",
   "metadata": {},
   "source": []
  },
  {
   "cell_type": "markdown",
   "id": "076ca2bc",
   "metadata": {},
   "source": [
    "# 6. After running the following code, what does the variable bacon contain?\n",
    "\n",
    "bacon = 22\n",
    "\n",
    "bacon + 1"
   ]
  },
  {
   "cell_type": "code",
   "execution_count": 7,
   "id": "d980775f",
   "metadata": {},
   "outputs": [
    {
     "data": {
      "text/plain": [
       "23"
      ]
     },
     "execution_count": 7,
     "metadata": {},
     "output_type": "execute_result"
    }
   ],
   "source": [
    "bacon = 22\n",
    "bacon + 1"
   ]
  },
  {
   "cell_type": "markdown",
   "id": "b4ad2ec9",
   "metadata": {},
   "source": [
    "The variable bacon will still contain the value 22.\n",
    "The expression bacon + 1 evaluates to 23, but it is not assigned to any variable."
   ]
  },
  {
   "cell_type": "raw",
   "id": "660bd67a",
   "metadata": {},
   "source": []
  },
  {
   "cell_type": "raw",
   "id": "4287ae33",
   "metadata": {},
   "source": []
  },
  {
   "cell_type": "markdown",
   "id": "47c61677",
   "metadata": {},
   "source": [
    "# 7. What should the values of the following two terms be?\n",
    "\n",
    "'spam' + 'spamspam'\n",
    "\n",
    "'spam'*3"
   ]
  },
  {
   "cell_type": "code",
   "execution_count": 8,
   "id": "b9a81003",
   "metadata": {},
   "outputs": [
    {
     "data": {
      "text/plain": [
       "'spamspamspam'"
      ]
     },
     "execution_count": 8,
     "metadata": {},
     "output_type": "execute_result"
    }
   ],
   "source": [
    "'spam' + 'spamspam'"
   ]
  },
  {
   "cell_type": "code",
   "execution_count": 9,
   "id": "919fdbe6",
   "metadata": {},
   "outputs": [
    {
     "data": {
      "text/plain": [
       "'spamspamspam'"
      ]
     },
     "execution_count": 9,
     "metadata": {},
     "output_type": "execute_result"
    }
   ],
   "source": [
    "'spam'*3"
   ]
  },
  {
   "cell_type": "raw",
   "id": "cf25a68b",
   "metadata": {},
   "source": []
  },
  {
   "cell_type": "raw",
   "id": "021460cf",
   "metadata": {},
   "source": []
  },
  {
   "cell_type": "markdown",
   "id": "3e112045",
   "metadata": {},
   "source": [
    "# 8. Why is eggs a valid variable name while 100 is invalid?"
   ]
  },
  {
   "cell_type": "markdown",
   "id": "98fe1953",
   "metadata": {},
   "source": [
    "Variable name must follow specific rules and conventions. That's why eggs is a valid variable name while 100 is invalid:\n",
    "\n",
    "Valid Characters:\n",
    "Variable names can contain letters both uppercase and lowercase, digits, and underscores (_).\n",
    "The first character of a variable name cannot be a digit.\n",
    "\n",
    "Therefore, eggs is a valid variable name as it doesn't start with a digit.\n",
    "100 is an invalid variable name because it starts with a digit. \n",
    "We know that Variable names must begin with a letter or an underscore."
   ]
  },
  {
   "cell_type": "code",
   "execution_count": 10,
   "id": "fc9f826f",
   "metadata": {},
   "outputs": [],
   "source": [
    "suppose = 5"
   ]
  },
  {
   "cell_type": "code",
   "execution_count": 11,
   "id": "e06ef21c",
   "metadata": {},
   "outputs": [
    {
     "ename": "SyntaxError",
     "evalue": "invalid decimal literal (343707926.py, line 1)",
     "output_type": "error",
     "traceback": [
      "\u001b[1;36m  Cell \u001b[1;32mIn[11], line 1\u001b[1;36m\u001b[0m\n\u001b[1;33m    123suppose = 55\u001b[0m\n\u001b[1;37m      ^\u001b[0m\n\u001b[1;31mSyntaxError\u001b[0m\u001b[1;31m:\u001b[0m invalid decimal literal\n"
     ]
    }
   ],
   "source": [
    "123suppose = 55"
   ]
  },
  {
   "cell_type": "raw",
   "id": "914eaf69",
   "metadata": {},
   "source": []
  },
  {
   "cell_type": "raw",
   "id": "5ef68cce",
   "metadata": {},
   "source": []
  },
  {
   "cell_type": "markdown",
   "id": "fe0103b4",
   "metadata": {},
   "source": [
    "# 9. What three functions can be used to get the integer, floating-point number, or string version of a value?"
   ]
  },
  {
   "cell_type": "code",
   "execution_count": 12,
   "id": "7f8e0048",
   "metadata": {},
   "outputs": [
    {
     "data": {
      "text/plain": [
       "52"
      ]
     },
     "execution_count": 12,
     "metadata": {},
     "output_type": "execute_result"
    }
   ],
   "source": [
    "a = 52.12\n",
    "int(a)\n"
   ]
  },
  {
   "cell_type": "code",
   "execution_count": 13,
   "id": "61dba3e8",
   "metadata": {},
   "outputs": [
    {
     "data": {
      "text/plain": [
       "'52.12'"
      ]
     },
     "execution_count": 13,
     "metadata": {},
     "output_type": "execute_result"
    }
   ],
   "source": [
    "a = 52.12\n",
    "str(a)\n"
   ]
  },
  {
   "cell_type": "code",
   "execution_count": 14,
   "id": "3f03bbda",
   "metadata": {},
   "outputs": [
    {
     "data": {
      "text/plain": [
       "52.12"
      ]
     },
     "execution_count": 14,
     "metadata": {},
     "output_type": "execute_result"
    }
   ],
   "source": [
    "a = 52.12\n",
    "float(a)\n"
   ]
  },
  {
   "cell_type": "raw",
   "id": "cf1af535",
   "metadata": {},
   "source": []
  },
  {
   "cell_type": "raw",
   "id": "8321e5c2",
   "metadata": {},
   "source": []
  },
  {
   "cell_type": "markdown",
   "id": "677d489b",
   "metadata": {},
   "source": [
    "# 10. Why does this expression cause an error? How can you fix it?\n",
    "\n",
    "'I have eaten' +99+ 'burritos'"
   ]
  },
  {
   "cell_type": "code",
   "execution_count": 15,
   "id": "1ddf00ab",
   "metadata": {},
   "outputs": [
    {
     "ename": "TypeError",
     "evalue": "can only concatenate str (not \"int\") to str",
     "output_type": "error",
     "traceback": [
      "\u001b[1;31m---------------------------------------------------------------------------\u001b[0m",
      "\u001b[1;31mTypeError\u001b[0m                                 Traceback (most recent call last)",
      "Cell \u001b[1;32mIn[15], line 1\u001b[0m\n\u001b[1;32m----> 1\u001b[0m \u001b[38;5;124;43m'\u001b[39;49m\u001b[38;5;124;43mI have eaten\u001b[39;49m\u001b[38;5;124;43m'\u001b[39;49m\u001b[43m \u001b[49m\u001b[38;5;241;43m+\u001b[39;49m\u001b[38;5;241;43m99\u001b[39;49m\u001b[38;5;241m+\u001b[39m \u001b[38;5;124m'\u001b[39m\u001b[38;5;124mburritos\u001b[39m\u001b[38;5;124m'\u001b[39m\n",
      "\u001b[1;31mTypeError\u001b[0m: can only concatenate str (not \"int\") to str"
     ]
    }
   ],
   "source": [
    "'I have eaten' +99+ 'burritos'"
   ]
  },
  {
   "cell_type": "code",
   "execution_count": 16,
   "id": "7703549b",
   "metadata": {},
   "outputs": [
    {
     "data": {
      "text/plain": [
       "' I have eaten 99 burritos '"
      ]
     },
     "execution_count": 16,
     "metadata": {},
     "output_type": "execute_result"
    }
   ],
   "source": [
    "' I have eaten ' + str (99) + ' burritos '"
   ]
  },
  {
   "cell_type": "code",
   "execution_count": null,
   "id": "13747f54",
   "metadata": {},
   "outputs": [],
   "source": []
  }
 ],
 "metadata": {
  "kernelspec": {
   "display_name": "Python 3 (ipykernel)",
   "language": "python",
   "name": "python3"
  },
  "language_info": {
   "codemirror_mode": {
    "name": "ipython",
    "version": 3
   },
   "file_extension": ".py",
   "mimetype": "text/x-python",
   "name": "python",
   "nbconvert_exporter": "python",
   "pygments_lexer": "ipython3",
   "version": "3.10.9"
  }
 },
 "nbformat": 4,
 "nbformat_minor": 5
}
