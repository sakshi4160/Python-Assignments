{
 "cells": [
  {
   "cell_type": "markdown",
   "id": "cd6ee119",
   "metadata": {},
   "source": [
    "# Python Assignment 6"
   ]
  },
  {
   "cell_type": "markdown",
   "id": "c1413a4b",
   "metadata": {},
   "source": [
    "# Q.1. What are keywords in python? Using the keyword library, print all the python keywords.\n"
   ]
  },
  {
   "cell_type": "markdown",
   "id": "ff6a2b22",
   "metadata": {},
   "source": [
    "Keywords in Python are reserved words that cannot be used as ordinary identifiers. They are used to define the syntax and structure of the Python language."
   ]
  },
  {
   "cell_type": "code",
   "execution_count": 2,
   "id": "a311eb99",
   "metadata": {},
   "outputs": [
    {
     "name": "stdout",
     "output_type": "stream",
     "text": [
      "['False', 'None', 'True', 'and', 'as', 'assert', 'async', 'await', 'break', 'class', 'continue', 'def', 'del', 'elif', 'else', 'except', 'finally', 'for', 'from', 'global', 'if', 'import', 'in', 'is', 'lambda', 'nonlocal', 'not', 'or', 'pass', 'raise', 'return', 'try', 'while', 'with', 'yield']\n"
     ]
    }
   ],
   "source": [
    "import keyword\n",
    "print(keyword.kwlist)"
   ]
  },
  {
   "cell_type": "markdown",
   "id": "7f2da32e",
   "metadata": {},
   "source": [
    "# Q.2. What are the rules to create variables in python?"
   ]
  },
  {
   "cell_type": "markdown",
   "id": "4bb312ad",
   "metadata": {},
   "source": [
    "1]  A variable name must start with a letter or the underscore character \n",
    "\n",
    "2]  A variable name cannot start with a number\n",
    "\n",
    "3]  A variable name can only contain alpha-numeric characters and underscores (A-z, 0-9, and _ )\n",
    "\n",
    "4]  Variable names are case-sensitive (car, Car and CAR are three different variables)"
   ]
  },
  {
   "cell_type": "markdown",
   "id": "678d251e",
   "metadata": {},
   "source": [
    "# Q.3. What are the standards and conventions followed for the nomenclature of variables in python to improve code readability and maintainability?\n"
   ]
  },
  {
   "cell_type": "markdown",
   "id": "346bad25",
   "metadata": {},
   "source": [
    "1]  Use descriptive names: Choose meaningful names that reflect the purpose or content of the variable.\n",
    "    \n",
    "2]  Apply lowercase and underscores: Use lowercase letters for variable names and separate words with underscores (my_dict).\n",
    "    \n",
    "3]  Avoid built-in names: Steer clear of using Python keywords or names of standard library modules/functions as variable names.\n",
    "    \n",
    "4]  Maintain consistency: Stick to a consistent naming style throughout your codebase.\n",
    "    \n",
    "5]  Consider prefixes for clarity: Add prefixes to indicate the type or purpose of the variable when it enhances readability.\n",
    "    \n",
    "6]  Use singular nouns for objects: Name instances of classes using singular nouns.\n",
    "    \n",
    "7]  Uppercase for constants: Constants should be written in uppercase letters with underscores between words."
   ]
  },
  {
   "cell_type": "markdown",
   "id": "5860271d",
   "metadata": {},
   "source": [
    "# Q.4. What will happen if a keyword is used as a variable name?"
   ]
  },
  {
   "cell_type": "markdown",
   "id": "31974dca",
   "metadata": {},
   "source": [
    "If Keyword is used as a variable name then python interpreter will throws an error"
   ]
  },
  {
   "cell_type": "code",
   "execution_count": 5,
   "id": "9fdefc9a",
   "metadata": {},
   "outputs": [
    {
     "ename": "SyntaxError",
     "evalue": "invalid syntax (1361838413.py, line 1)",
     "output_type": "error",
     "traceback": [
      "\u001b[1;36m  Cell \u001b[1;32mIn[5], line 1\u001b[1;36m\u001b[0m\n\u001b[1;33m    class = 14\u001b[0m\n\u001b[1;37m          ^\u001b[0m\n\u001b[1;31mSyntaxError\u001b[0m\u001b[1;31m:\u001b[0m invalid syntax\n"
     ]
    }
   ],
   "source": [
    "class = 14\n",
    "print(class)"
   ]
  },
  {
   "cell_type": "markdown",
   "id": "25580bde",
   "metadata": {},
   "source": [
    "# Q.5. For what purpose def keyword is used?\n"
   ]
  },
  {
   "cell_type": "markdown",
   "id": "e50dbe35",
   "metadata": {},
   "source": [
    "def Keyword is used to define the user defined functions"
   ]
  },
  {
   "cell_type": "code",
   "execution_count": 8,
   "id": "1a75b96c",
   "metadata": {},
   "outputs": [
    {
     "name": "stdout",
     "output_type": "stream",
     "text": [
      "10\n"
     ]
    }
   ],
   "source": [
    "#example\n",
    "def add(a,b):\n",
    "    return a + b\n",
    "\n",
    "print(add(4, 6))"
   ]
  },
  {
   "cell_type": "markdown",
   "id": "862ab2ed",
   "metadata": {},
   "source": [
    "# Q.6. What is the operation of this special character ‘\\’?"
   ]
  },
  {
   "cell_type": "markdown",
   "id": "f6f85dbd",
   "metadata": {},
   "source": [
    "Operation of ' \\ ' this special character is to extend a statement over multiple lines."
   ]
  },
  {
   "cell_type": "code",
   "execution_count": 10,
   "id": "ddbd7966",
   "metadata": {},
   "outputs": [
    {
     "name": "stdout",
     "output_type": "stream",
     "text": [
      "22\n"
     ]
    }
   ],
   "source": [
    "#example\n",
    "\n",
    "sum = 1 + 2 + 3 + 4 \\\n",
    "              + 5 + 7\n",
    "print(sum)"
   ]
  },
  {
   "cell_type": "markdown",
   "id": "2e44e26a",
   "metadata": {},
   "source": [
    "# Q.7. Give an example of the following conditions:\n",
    "        (i) Homogeneous list\n",
    "       (ii) Heterogeneous set\n",
    "       (iii) Homogeneous tuple\n"
   ]
  },
  {
   "cell_type": "code",
   "execution_count": 11,
   "id": "04564d87",
   "metadata": {},
   "outputs": [
    {
     "name": "stdout",
     "output_type": "stream",
     "text": [
      "['Nagpur', 'Pune', 'Mumbai', 'Dhule']\n"
     ]
    }
   ],
   "source": [
    "# HOMOGENEOUS list\n",
    "\n",
    "city = [\"Nagpur\", \"Pune\", \"Mumbai\", \"Dhule\"]\n",
    "print(city)"
   ]
  },
  {
   "cell_type": "code",
   "execution_count": 13,
   "id": "077ad232",
   "metadata": {},
   "outputs": [
    {
     "name": "stdout",
     "output_type": "stream",
     "text": [
      "['sakshi', 3.14, 94.6, [5, 6, 7], {'name': 'Kiara', 'percentage': 84}]\n"
     ]
    }
   ],
   "source": [
    "# HETEROGENEOUS Set\n",
    "\n",
    "set = [\"sakshi\", 3.14, 94.60,  [5, 6, 7], {\"name\": \"Kiara\" , \"percentage\": 84}]\n",
    "print(set)"
   ]
  },
  {
   "cell_type": "code",
   "execution_count": 14,
   "id": "aa4df5e6",
   "metadata": {},
   "outputs": [
    {
     "name": "stdout",
     "output_type": "stream",
     "text": [
      "(1, 2, 3, 4)\n"
     ]
    }
   ],
   "source": [
    "# HOMOGENEOUS tuple\n",
    "\n",
    "tuple = (1, 2, 3, 4)\n",
    "print(tuple)"
   ]
  },
  {
   "cell_type": "markdown",
   "id": "862a75d7",
   "metadata": {},
   "source": [
    "# Q.8. Explain the mutable and immutable data types with proper explanation & examples.\n"
   ]
  },
  {
   "cell_type": "markdown",
   "id": "4510984e",
   "metadata": {},
   "source": [
    "Anything is said to be mutable when anything can be modified or changed. The term \"mutable\" in Python refers to an object's capacity to modify its values. These are frequently the things that hold a data collection Lists Dictionaries Sets User-Defined Classes.\n",
    "\n",
    "Immutable refers to a state in which no change can occur over time. A Python object is referred to as immutable if we cannot change its value over time. The value of these Python objects is fixed once they are made. Numbers (Integer, Float, Complex, Decimal, Rational & Booleans) Tuples Strings Frozen Sets."
   ]
  },
  {
   "cell_type": "code",
   "execution_count": 24,
   "id": "177531e8",
   "metadata": {},
   "outputs": [
    {
     "name": "stdout",
     "output_type": "stream",
     "text": [
      "The original list:  ['mango', 'apple', 'banana', 'orange']\n",
      "The modified list:  ['mango', 'apple', 'banana', 'strawberry']\n",
      "-------------------------------------------------------------------------------------\n",
      "The original dictionary:  {'name': 'Mira', 'email': 'abc@gmail.com', 'college': 'VJIT'}\n",
      "The modified dictionary:  {'name': 'Mira', 'email': 'xyz@gmail.com', 'college': 'VJIT'}\n"
     ]
    }
   ],
   "source": [
    "# Mutable Example\n",
    "\n",
    "# 1] List\n",
    "\n",
    "# Creating a list  \n",
    "\n",
    "list1 = ['mango' , 'apple' , 'banana' , 'orange']  \n",
    "print(\"The original list: \", list1)  \n",
    "  \n",
    "# Changing the value at index 3 of the list  \n",
    "\n",
    "list1[3]='strawberry'  \n",
    "print(\"The modified list: \", list1)  \n",
    "\n",
    "\n",
    "# 2] Dictionary\n",
    "\n",
    "print('-'*85)\n",
    "# Creating a dictionary  \n",
    "\n",
    "dict = {\"name\" : \"Mira\" , \"email\" : \"abc@gmail.com\" , \"college\" : \"VJIT\"}  \n",
    "print(\"The original dictionary: \", dict)  \n",
    "  \n",
    "# Changing the value of one of the keys of the dictionary \n",
    "\n",
    "dict['email']= 'xyz@gmail.com'  \n",
    "print(\"The modified dictionary: \", dict)  "
   ]
  },
  {
   "cell_type": "code",
   "execution_count": 22,
   "id": "13dba15d",
   "metadata": {},
   "outputs": [
    {
     "name": "stdout",
     "output_type": "stream",
     "text": [
      "The memory address of int before updating:  1627508769424\n",
      "The memory address of int after updating:  1627508770096\n",
      "-----------------------------------------------------------\n",
      "The memory address of float before updating:  1627610080144\n",
      "The memory address of float after updating:  1627617260720\n"
     ]
    }
   ],
   "source": [
    "# Immutable Example\n",
    "\n",
    "# INT\n",
    "\n",
    "int = 14\n",
    "print('The memory address of int before updating: ', id(int))  \n",
    "  \n",
    "# Modifying an int \n",
    "\n",
    "int = 35  \n",
    "print('The memory address of int after updating: ', id(int))  \n",
    "\n",
    "print(\"-\"*59)\n",
    "\n",
    "#FLoat\n",
    "\n",
    "float = (14.5)  \n",
    "print('The memory address of float before updating: ', id(float))  \n",
    "  \n",
    "# Modifying the float \n",
    "\n",
    "float = (15.5)  \n",
    "print('The memory address of float after updating: ', id(float))  \n",
    "\n",
    "\n",
    "#Changed Memory Address Means these objects are immutable"
   ]
  },
  {
   "cell_type": "markdown",
   "id": "c6472ba3",
   "metadata": {},
   "source": [
    "# Q.9. Write a code to create the given structure using only for loop.\n"
   ]
  },
  {
   "cell_type": "code",
   "execution_count": null,
   "id": "9b80f2ed",
   "metadata": {},
   "outputs": [],
   "source": [
    "    *\n",
    "   ***\n",
    "  *****\n",
    " *******\n",
    "*********"
   ]
  },
  {
   "cell_type": "code",
   "execution_count": 13,
   "id": "f0bf726d",
   "metadata": {},
   "outputs": [
    {
     "name": "stdout",
     "output_type": "stream",
     "text": [
      "        * \n",
      "\n",
      "      * * * \n",
      "\n",
      "    * * * * * \n",
      "\n",
      "  * * * * * * * \n",
      "\n",
      "* * * * * * * * * \n",
      "\n"
     ]
    }
   ],
   "source": [
    "n = 5\n",
    "for i in range(n):\n",
    "    for j in range(i, n-1):\n",
    "        print(\" \"*len('*'), end = \" \")\n",
    "    for j in range(i + 1):\n",
    "        print(\"*\", end = \" \")\n",
    "    for j in range(i):\n",
    "        print(\"*\", end = \" \")\n",
    "    print(\"\\n\")\n",
    "   "
   ]
  },
  {
   "cell_type": "markdown",
   "id": "5a59ebef",
   "metadata": {},
   "source": [
    "# Q.10. Write a code to create the given structure using while loop.\n",
    "\n"
   ]
  },
  {
   "cell_type": "code",
   "execution_count": null,
   "id": "3416b97b",
   "metadata": {},
   "outputs": [],
   "source": [
    "|||||||||\n",
    " |||||||\n",
    "  |||||\n",
    "   |||\n",
    "    |"
   ]
  },
  {
   "cell_type": "code",
   "execution_count": 8,
   "id": "d8fcbcfd",
   "metadata": {},
   "outputs": [
    {
     "name": "stdout",
     "output_type": "stream",
     "text": [
      "|||||||||\n",
      " |||||||\n",
      "  |||||\n",
      "   |||\n",
      "    |\n"
     ]
    }
   ],
   "source": [
    "row = 5\n",
    "\n",
    "while row > 0:\n",
    "    print(\" \" * (5 - row), end = \"\")\n",
    "    print(\"|\" * (2 * row - 1))\n",
    "    row -= 1"
   ]
  }
 ],
 "metadata": {
  "kernelspec": {
   "display_name": "Python 3 (ipykernel)",
   "language": "python",
   "name": "python3"
  },
  "language_info": {
   "codemirror_mode": {
    "name": "ipython",
    "version": 3
   },
   "file_extension": ".py",
   "mimetype": "text/x-python",
   "name": "python",
   "nbconvert_exporter": "python",
   "pygments_lexer": "ipython3",
   "version": "3.10.9"
  }
 },
 "nbformat": 4,
 "nbformat_minor": 5
}
