{
 "cells": [
  {
   "cell_type": "markdown",
   "id": "d37d5f27",
   "metadata": {},
   "source": [
    "# Python Assignment"
   ]
  },
  {
   "cell_type": "markdown",
   "id": "55c23e71",
   "metadata": {},
   "source": [
    "# 1. What is the role of the 'else' block in a try-except statement? Provide an example scenario where it would be useful."
   ]
  },
  {
   "cell_type": "markdown",
   "id": "7b7ae3c4",
   "metadata": {},
   "source": [
    "In try-except statement we use else block also. let's us execute our program when there is no error in the code.\n"
   ]
  },
  {
   "cell_type": "code",
   "execution_count": 1,
   "id": "76d8b2c0",
   "metadata": {},
   "outputs": [
    {
     "name": "stdout",
     "output_type": "stream",
     "text": [
      "Hello\n",
      "Nothing went wrong\n"
     ]
    }
   ],
   "source": [
    "# else block\n",
    "try:\n",
    "    print(\"Hello\")\n",
    "except:\n",
    "    print(\"Something went wrong\")\n",
    "else:\n",
    "    print(\"Nothing went wrong\")"
   ]
  },
  {
   "cell_type": "markdown",
   "id": "ca6b8498",
   "metadata": {},
   "source": [
    "# 2. Can a try-except block be nested inside another try-except block? Explain with an example."
   ]
  },
  {
   "cell_type": "markdown",
   "id": "a0e7fc5e",
   "metadata": {},
   "source": [
    "Yes, a try-except block can be nested inside try-except block."
   ]
  },
  {
   "cell_type": "code",
   "execution_count": 2,
   "id": "bc1b7b8b",
   "metadata": {},
   "outputs": [
    {
     "name": "stdout",
     "output_type": "stream",
     "text": [
      "outer try block\n",
      "nested try block\n",
      "outer except block\n"
     ]
    }
   ],
   "source": [
    "#nested try-except block\n",
    "x = 10\n",
    "y = 0\n",
    "try:\n",
    "    print(\"outer try block\")\n",
    "    try:\n",
    "        print(\"nested try block\")\n",
    "        print(x / y)\n",
    "    except TypeError:\n",
    "        print(\"nested except block\")\n",
    "except ZeroDivisionError:\n",
    "    print(\"outer except block\")"
   ]
  },
  {
   "cell_type": "markdown",
   "id": "4a920fd4",
   "metadata": {},
   "source": [
    "# 3. How can you create a custom exception class in Python? Provide an example that demonstrates its usage."
   ]
  },
  {
   "cell_type": "markdown",
   "id": "c0806e4e",
   "metadata": {},
   "source": [
    "We can create a custom class in python by using raise function, when the error is expected in the program then we can cature that exception by using except block in the program same as normal program"
   ]
  },
  {
   "cell_type": "code",
   "execution_count": 1,
   "id": "b2130c70",
   "metadata": {},
   "outputs": [
    {
     "name": "stdout",
     "output_type": "stream",
     "text": [
      "Enter a number: 14\n",
      "Exception occurred: Invalid Age\n"
     ]
    }
   ],
   "source": [
    "# user-defined exceptions\n",
    "class InvalidAgeException(Exception):\n",
    "    \"Raised when the input value is less than 18\"\n",
    "    pass\n",
    "age = 18\n",
    "try:\n",
    "    input_num = int(input(\"Enter a number: \"))\n",
    "    if input_num < age:\n",
    "        raise InvalidAgeException\n",
    "    else:\n",
    "        print(\"Eligible to Vote\")\n",
    "except InvalidAgeException:\n",
    "    print(\"Exception occurred: Invalid Age\")"
   ]
  },
  {
   "cell_type": "markdown",
   "id": "111dda30",
   "metadata": {},
   "source": [
    "# 4. What are some common exceptions that are built-in to Python?\n"
   ]
  },
  {
   "cell_type": "markdown",
   "id": "249eb957",
   "metadata": {},
   "source": [
    "There are many built-in python functions but some common are given below.\n",
    "\n",
    "ArithmeticError \n",
    "\n",
    "AttributeError \n",
    "\n",
    "EOFError \n",
    "\n",
    "FloatingPointError\n",
    "\n",
    "ImportError\n",
    "\n",
    "IndentationError \n",
    "\n",
    "IndexError\n",
    "\n",
    "KeyError\n",
    "\n",
    "SystemError \n",
    "\n",
    "ValueError \n",
    "\n",
    "ZeroDivisionError"
   ]
  },
  {
   "cell_type": "markdown",
   "id": "941f3610",
   "metadata": {},
   "source": [
    "# 5. What is logging in Python, and why is it important in software development?"
   ]
  },
  {
   "cell_type": "markdown",
   "id": "61823f66",
   "metadata": {},
   "source": [
    "\n",
    "Logging in a program mean tracking of the events that happen when some software/program runs.\n",
    "Logging is important for software developing, debugging, and running. If we don’t have any logging record and our program and it crashes, then there are very few chances that we can detect the cause of the problem.\n",
    "\n",
    "For Example : When huge system and api are made then we check the logs which says what request was sent by the cosumer and then what response was recieved by our core system."
   ]
  },
  {
   "cell_type": "markdown",
   "id": "208be842",
   "metadata": {},
   "source": [
    "# 6. Explain the purpose of log levels in Python logging and provide examples of when each log level would be appropriate."
   ]
  },
  {
   "cell_type": "markdown",
   "id": "e7e63cc9",
   "metadata": {},
   "source": [
    "The purpose of log levels in Python logging is to categorize and prioritize log messages based on their severity or significance. Log levels help developers and system administrators understand and filter log messages based on their importance, allowing them to focus on the most critical issues and ignore less important ones. \n",
    "\n",
    "- CRITICAL: Most severe errors requiring immediate attention.\n",
    "- ERROR: Recoverable errors impacting application functioning.\n",
    "- WARNING: Potential issues that may lead to errors in the future.\n",
    "- INFO: Informational messages about normal execution.\n",
    "- DEBUG: Detailed debugging information for developers.\n",
    "- NOTSET: Default level, rarely used explicitly."
   ]
  },
  {
   "cell_type": "code",
   "execution_count": 7,
   "id": "7f3c55ad",
   "metadata": {},
   "outputs": [
    {
     "data": {
      "text/plain": [
       "5"
      ]
     },
     "execution_count": 7,
     "metadata": {},
     "output_type": "execute_result"
    }
   ],
   "source": [
    "# DEBUG\n",
    "import logging\n",
    "logging.basicConfig(level=logging.DEBUG)\n",
    "def add(x, y):\n",
    "    logging.debug(\"Variables are %s and %s\", x, y)\n",
    "    return x + y\n",
    "add(2, 3)"
   ]
  },
  {
   "cell_type": "code",
   "execution_count": 8,
   "id": "a8333e4c",
   "metadata": {},
   "outputs": [
    {
     "name": "stderr",
     "output_type": "stream",
     "text": [
      "INFO:root:User name is Admin\n"
     ]
    }
   ],
   "source": [
    "# INFO\n",
    "import logging\n",
    "logging.basicConfig(level=logging.INFO)\n",
    "def login123(user):\n",
    "    logging.info('User name is %s', user)\n",
    "login123('Admin')"
   ]
  },
  {
   "cell_type": "code",
   "execution_count": 9,
   "id": "481a6452",
   "metadata": {},
   "outputs": [
    {
     "name": "stderr",
     "output_type": "stream",
     "text": [
      "WARNING:root:Sorry you have low balance, your balance is 10000\n"
     ]
    }
   ],
   "source": [
    "# WARNING\n",
    "import logging\n",
    "logging.basicConfig(level=logging.WARNING)\n",
    "def MyBalance(amount):\n",
    "    if amount < 40000:\n",
    "        logging.warning(\"Sorry you have low balance, your balance is %s\", amount)\n",
    "MyBalance(10000)"
   ]
  },
  {
   "cell_type": "code",
   "execution_count": 10,
   "id": "959e5d85",
   "metadata": {},
   "outputs": [
    {
     "name": "stderr",
     "output_type": "stream",
     "text": [
      "ERROR:root:Division by Zero\n"
     ]
    }
   ],
   "source": [
    "# Error\n",
    "import logging\n",
    "logging.basicConfig(level=logging.ERROR)\n",
    "def DivideByZero(n, d):\n",
    "    try:\n",
    "        result = n/d\n",
    "    except ZeroDivisionError:\n",
    "        logging.error(\"Division by Zero\")\n",
    "    else:\n",
    "        print(result)\n",
    "DivideByZero(5, 0)"
   ]
  },
  {
   "cell_type": "code",
   "execution_count": 6,
   "id": "18794079",
   "metadata": {},
   "outputs": [],
   "source": [
    "# CRITICAL ERROR\n",
    "import logging\n",
    "\n",
    "logging.basicConfig(level=logging.CRITICAL)\n",
    "\n",
    "def LetUsCheckSystem(sys):\n",
    "    if sys != 'OK':\n",
    "        logging.critical('System failured to boot : %s', sys)\n",
    "\n",
    "LetUsCheckSystem('You need to handle the issue')"
   ]
  },
  {
   "cell_type": "markdown",
   "id": "08f2f098",
   "metadata": {},
   "source": [
    "# 7. What are log formatters in Python logging, and how can you customise the log message format using formatters?"
   ]
  },
  {
   "cell_type": "markdown",
   "id": "dec48473",
   "metadata": {},
   "source": [
    "The handlers use logging.Formatter objects to format a log record into a string-based log entry.\n",
    "\n",
    "Note: Formatters do not control the creation of log messages.\n",
    "A formatter works by combining the fields/data in a log record with the user-specified format string."
   ]
  },
  {
   "cell_type": "code",
   "execution_count": 7,
   "id": "0699e230",
   "metadata": {},
   "outputs": [],
   "source": [
    "Log formatters in Python logging are used to define the structure and format of log messages. They specify \n",
    "how the information should be presented in the log output. The logging module provides a variety of built-in \n",
    "formatters, but you can also create custom formatters to meet specific requirements.\n",
    "\n",
    "To customize the log message format using formatters, you need to create an instance of a formatter class and\n",
    "configure the logging module to use it. The formatter class provides various attributes that you can include \n",
    "in the log message format. For example, you can include the timestamp, log level, logger name, module name, \n",
    "and the actual log message.\n",
    "\n",
    "example of setting up a basic log formatter that includes the timestamp, log level, and log message:\n",
    "    \n",
    "import logging\n",
    "\n",
    "formatter = logging.Formatter('%(asctime)s - %(levelname)s - %(message)s')\n",
    "\n",
    "handler = logging.StreamHandler()\n",
    "handler.setFormatter(formatter)\n",
    "\n",
    "logger = logging.getLogger()\n",
    "logger.addHandler(handler)"
   ]
  },
  {
   "cell_type": "markdown",
   "id": "a40c0954",
   "metadata": {},
   "source": [
    "# 8. How can you set up logging to capture log messages from multiple modules or classes in a Python application?"
   ]
  },
  {
   "cell_type": "markdown",
   "id": "d399e5e1",
   "metadata": {},
   "source": [
    "To capture log messages from multiple modules or classes in a Python application, you can follow these steps:\n",
    "    \n",
    "a) Create a logger instance in each module or class where you want to capture logs. Use the logging.getLogger\n",
    "(__name__) method, passing the __name__ attribute as the logger name. This ensures that each module or class \n",
    "gets a separate logger instance.\n",
    "\n",
    "b) Configure the logger handlers to specify where the log messages should be sent. For example, you can \n",
    "configure a file handler, console handler, or any other custom handler based on your requirements.\n",
    "\n",
    "c) Set the log level for each logger instance to define the minimum severity level of the messages to be \n",
    "captured. You can use the logger.setLevel(logging.<LEVEL>) method, where <LEVEL> can be DEBUG, INFO, WARNING, \n",
    "ERROR, or CRITICAL.\n",
    "\n",
    "# module1.py\n",
    "import logging\n",
    "\n",
    "logger = logging.getLogger(__name__)\n",
    "\n",
    "def do_something():\n",
    "    logger.info('Doing something in module1')\n",
    "\n",
    "# module2.py\n",
    "import logging\n",
    "\n",
    "logger = logging.getLogger(__name__)\n",
    "\n",
    "def do_something_else():\n",
    "    logger.info('Doing something else in module2')\n",
    "\n",
    "# main.py\n",
    "import logging\n",
    "import module1\n",
    "import module2\n",
    "\n",
    "logging.basicConfig(level=logging.INFO)\n",
    "\n",
    "module1.do_something()\n",
    "module2.do_something_else()\n"
   ]
  },
  {
   "cell_type": "markdown",
   "id": "22f90893",
   "metadata": {},
   "source": [
    "# 9. What is the difference between the logging and print statements in Python? When should you use logging over print statements in a real-world application?"
   ]
  },
  {
   "cell_type": "markdown",
   "id": "8e0a1d99",
   "metadata": {},
   "source": [
    "#Logging\n",
    "\n",
    "1] Logging helps us in recording the error during execution of a python program\t \n",
    "\n",
    "2] Used in Production environments only\t\n",
    "\n",
    "3] Features like Log levels, filtering, formatting, and many more.\t\n",
    "\n",
    "4] It has different log levels such as Debug, Info, Error, Warning, and Critical.\t"
   ]
  },
  {
   "cell_type": "markdown",
   "id": "0f2e9dd5",
   "metadata": {},
   "source": [
    "#Print\n",
    "\n",
    "1] Print display the info on console for debugging purpose\n",
    "\n",
    "2] It is mainly for debugging\n",
    "\n",
    "3] There are no good features.\n",
    "\n",
    "4] It does not have any levels, it simply prints whatever is passed to it."
   ]
  },
  {
   "cell_type": "code",
   "execution_count": 17,
   "id": "43d0ee22",
   "metadata": {},
   "outputs": [
    {
     "name": "stdout",
     "output_type": "stream",
     "text": [
      "Hello\n"
     ]
    }
   ],
   "source": [
    "# Print \n",
    "print(\"Hello\")"
   ]
  },
  {
   "cell_type": "code",
   "execution_count": 16,
   "id": "79c2a35a",
   "metadata": {},
   "outputs": [],
   "source": [
    "# Logging\n",
    "import logging; \n",
    "logging.basicConfig(level=logging.INFO); \n",
    "logging.info(\"Hello\")"
   ]
  },
  {
   "cell_type": "markdown",
   "id": "8dc0dafa",
   "metadata": {},
   "source": [
    "# 10. Write a Python program that logs a message to a file named \"app.log\" with the following requirements:\n",
    "\n",
    "● The log message should be \"Hello, World!\"\n",
    "\n",
    "● The log level should be set to \"INFO.\"\n",
    "\n",
    "● The log file should append new log entries without overwriting previous ones."
   ]
  },
  {
   "cell_type": "code",
   "execution_count": 3,
   "id": "762653e6",
   "metadata": {},
   "outputs": [],
   "source": [
    "#python program that logs a message to a file named \"app.log\" with the specified requirements:\n",
    "\n",
    "import logging\n",
    "\n",
    "logging.basicConfig(filename='app.log', level=logging.INFO, filemode='a')\n",
    "logging.info('Hello, Ineuron!')\n"
   ]
  },
  {
   "cell_type": "markdown",
   "id": "1b7b7b8f",
   "metadata": {},
   "source": [
    "# 11. Create a Python program that logs an error message to the console and a file named \"errors.log\" if an exception occurs during the program's execution. The error message should include the exception type and a timestamp."
   ]
  },
  {
   "cell_type": "markdown",
   "id": "6c5ec849",
   "metadata": {},
   "source": [
    "Created a python program that logs an error message to the console and a file named \"errors.log\" if an exception occurs during the program's execution. The error message should include the exception type and a timestamp."
   ]
  },
  {
   "cell_type": "code",
   "execution_count": null,
   "id": "6a7a279f",
   "metadata": {},
   "outputs": [],
   "source": [
    "import logging\n",
    "import datetime\n",
    "\n",
    "logging.basicConfig(level=logging.ERROR)\n",
    "\n",
    "file_handler = logging.FileHandler('errors.log')\n",
    "file_handler.setLevel(logging.ERROR)\n",
    "file_formatter = logging.Formatter('%(asctime)s - %(levelname)s - %(message)s')\n",
    "file_handler.setFormatter(file_formatter)\n",
    "\n",
    "logger = logging.getLogger(__name__)\n",
    "logger.addHandler(file_handler)\n",
    "\n",
    "try:\n",
    "    # Your program logic here\n",
    "    raise ValueError(\"Something went wrong!\")\n",
    "\n",
    "except Exception as e:\n",
    "    # Log the exception message with timestamp\n",
    "    error_msg = f\"{datetime.datetime.now()} - {type(e).__name__} - {str(e)}\"\n",
    "    logger.error(error_msg)\n",
    "    print(\"An error occurred. Check the error.log file for details.\")"
   ]
  }
 ],
 "metadata": {
  "kernelspec": {
   "display_name": "Python 3 (ipykernel)",
   "language": "python",
   "name": "python3"
  },
  "language_info": {
   "codemirror_mode": {
    "name": "ipython",
    "version": 3
   },
   "file_extension": ".py",
   "mimetype": "text/x-python",
   "name": "python",
   "nbconvert_exporter": "python",
   "pygments_lexer": "ipython3",
   "version": "3.10.9"
  }
 },
 "nbformat": 4,
 "nbformat_minor": 5
}
