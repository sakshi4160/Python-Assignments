{
 "cells": [
  {
   "cell_type": "markdown",
   "id": "4c6eca6e",
   "metadata": {},
   "source": [
    "# Python Assignment"
   ]
  },
  {
   "cell_type": "markdown",
   "id": "670ac81f",
   "metadata": {},
   "source": [
    "# 1. What is a lambda function in Python, and how does it differ from a regular function?\n"
   ]
  },
  {
   "cell_type": "markdown",
   "id": "e80f3ca3",
   "metadata": {},
   "source": [
    "A lambda function is also known as anonymous function because it can defined without a name, can take any number of arguments and unlike normal functions, evaluates and returns only one expression.\n",
    "Unlike a normal function, in lambda function we don't surround the parameters of a lambda function with parentheses. If a lambda function takes two or more parameters, we list them with a comma."
   ]
  },
  {
   "cell_type": "code",
   "execution_count": 2,
   "id": "7860d656",
   "metadata": {},
   "outputs": [
    {
     "name": "stdout",
     "output_type": "stream",
     "text": [
      "10\n"
     ]
    }
   ],
   "source": [
    "#normal function\n",
    "def increment_by_one(x):\n",
    "    print(x+1)\n",
    "    return \n",
    "increment_by_one(9)"
   ]
  },
  {
   "cell_type": "code",
   "execution_count": 3,
   "id": "845b6140",
   "metadata": {},
   "outputs": [
    {
     "data": {
      "text/plain": [
       "10"
      ]
     },
     "execution_count": 3,
     "metadata": {},
     "output_type": "execute_result"
    }
   ],
   "source": [
    "#lambda function\n",
    "(lambda x: x + 1)(9)"
   ]
  },
  {
   "cell_type": "markdown",
   "id": "47043231",
   "metadata": {},
   "source": [
    "# 2. Can a lambda function in Python have multiple arguments? If yes, how can you define and use them?"
   ]
  },
  {
   "cell_type": "markdown",
   "id": "efa0f6d0",
   "metadata": {},
   "source": [
    "Yes, a lambda function can have multiple arguments in it. If a lambda function takes two or more parameters, we list them inside lambda with a comma in it."
   ]
  },
  {
   "cell_type": "code",
   "execution_count": 17,
   "id": "09242264",
   "metadata": {},
   "outputs": [
    {
     "name": "stdout",
     "output_type": "stream",
     "text": [
      "The sum is : 16\n"
     ]
    }
   ],
   "source": [
    "# multiple arguments in lambda\n",
    "a = 6\n",
    "b = 4\n",
    "c = 6\n",
    "lambda_sum = (lambda x, y, z: x + y + z) (a, b, c)\n",
    "print(\"The sum is :\",lambda_sum)"
   ]
  },
  {
   "cell_type": "markdown",
   "id": "1c3cb02b",
   "metadata": {},
   "source": [
    "# 3. How are lambda functions typically used in Python? Provide an example use case."
   ]
  },
  {
   "cell_type": "markdown",
   "id": "d90cb9b3",
   "metadata": {},
   "source": [
    "In Python, we generally use Lambda Functions as an argument to a higher-order function (a function that takes in other functions as arguments).\n",
    "For Example, These are used together with built-in functions like filter(), map(), and reduce(), etc."
   ]
  },
  {
   "cell_type": "code",
   "execution_count": 3,
   "id": "63198d41",
   "metadata": {},
   "outputs": [
    {
     "name": "stdout",
     "output_type": "stream",
     "text": [
      "[10, 12, 14, 16]\n"
     ]
    }
   ],
   "source": [
    "list1 = [2, 4, 6, 8, 10, 12, 14, 16]\n",
    "new_list = list(filter(lambda x: x > 8, list1))\n",
    "print(new_list)"
   ]
  },
  {
   "cell_type": "markdown",
   "id": "6d00543b",
   "metadata": {},
   "source": [
    "# 4. What are the advantages and limitations of lambda functions compared to regular functions in Python?"
   ]
  },
  {
   "cell_type": "markdown",
   "id": "a4e3146c",
   "metadata": {},
   "source": [
    "#Advantage of Lambda functions\n",
    "\n",
    "1] They can be immediately passed around (no variable needed)\n",
    "\n",
    "2] They can only have a single line of code within them and execute comparatively faster\n",
    "\n",
    "3] They return automatically\n",
    "\n",
    "4] Lambda functions make code much more readable by avoiding the logical jumps\n"
   ]
  },
  {
   "cell_type": "markdown",
   "id": "d97fea4b",
   "metadata": {},
   "source": [
    " #Disadvantage of Lambda functions\n",
    "\n",
    "1] Lambda is not user-friendly as def\n",
    "\n",
    "2] It is problem when we need to build a complex function\n",
    "\n",
    "3] Lambda functions can have only one expression. It can't be acceptable in all the circumstances\n",
    "\n",
    "4] They cannot have a docstring in them to explain major functions."
   ]
  },
  {
   "cell_type": "code",
   "execution_count": 5,
   "id": "64064256",
   "metadata": {},
   "outputs": [
    {
     "name": "stdout",
     "output_type": "stream",
     "text": [
      "5\n"
     ]
    }
   ],
   "source": [
    "d = (lambda x, y, z: x*y+z)(1, 2, 3)\n",
    "print(d)"
   ]
  },
  {
   "cell_type": "code",
   "execution_count": 6,
   "id": "5515699d",
   "metadata": {},
   "outputs": [
    {
     "name": "stdout",
     "output_type": "stream",
     "text": [
      "5\n",
      "\n",
      "    This is doc string\n",
      "    We are multipplying x with y and then \n",
      "    adding z in the calculation.\n"
     ]
    }
   ],
   "source": [
    "def fun(x, y, z):\n",
    "    \"\"\"\n",
    "    This is doc string\n",
    "    We are multipplying x with y and then \n",
    "    adding z in the calculation.\"\"\"\n",
    "    return x*y+z\n",
    "print(fun(1, 2, 3))\n",
    "print(fun.__doc__)"
   ]
  },
  {
   "cell_type": "markdown",
   "id": "2cd25084",
   "metadata": {},
   "source": [
    "# 5. Are lambda functions in Python able to access variables defined outside of their own scope? Explain with an example."
   ]
  },
  {
   "cell_type": "markdown",
   "id": "1831efb6",
   "metadata": {},
   "source": [
    "Yes, Lambda function in python able to access variables defined outside their own scope."
   ]
  },
  {
   "cell_type": "code",
   "execution_count": 10,
   "id": "d04c1f09",
   "metadata": {},
   "outputs": [
    {
     "name": "stdout",
     "output_type": "stream",
     "text": [
      "9\n"
     ]
    }
   ],
   "source": [
    "c = 4 # outside scope\n",
    "\n",
    "d = (lambda x, y, z: x*y+z+c)(1, 2, 3) \n",
    "print(d)"
   ]
  },
  {
   "cell_type": "markdown",
   "id": "d4ee49a0",
   "metadata": {},
   "source": [
    "# 6. Write a lambda function to calculate the square of a given number."
   ]
  },
  {
   "cell_type": "markdown",
   "id": "488041e4",
   "metadata": {},
   "source": [
    "Lambda function to calculate the square of a given number"
   ]
  },
  {
   "cell_type": "code",
   "execution_count": 3,
   "id": "871bf873",
   "metadata": {},
   "outputs": [
    {
     "name": "stdout",
     "output_type": "stream",
     "text": [
      "Enter number to evaluater : 10\n",
      "100\n"
     ]
    }
   ],
   "source": [
    "z = (lambda x: x**2)\n",
    "num = int(input(\"Enter number to evaluater : \"))\n",
    "print(z(num))"
   ]
  },
  {
   "cell_type": "markdown",
   "id": "f4cd7a25",
   "metadata": {},
   "source": [
    "# 7. Create a lambda function to find the maximum value in a list of integers."
   ]
  },
  {
   "cell_type": "markdown",
   "id": "f5d21265",
   "metadata": {},
   "source": [
    "Lambda function to find the maximum value in a list of integers"
   ]
  },
  {
   "cell_type": "code",
   "execution_count": 4,
   "id": "ecf466de",
   "metadata": {},
   "outputs": [
    {
     "name": "stdout",
     "output_type": "stream",
     "text": [
      "1000\n"
     ]
    }
   ],
   "source": [
    "int_list = ['10', '100', '1000', '205', '50', '120']\n",
    "print(max(int_list, key=lambda x:int(x)))"
   ]
  },
  {
   "cell_type": "markdown",
   "id": "f9ef8a03",
   "metadata": {},
   "source": [
    "# 8. Implement a lambda function to filter out all the even numbers from a list of integers.\n"
   ]
  },
  {
   "cell_type": "markdown",
   "id": "5b2be9c9",
   "metadata": {},
   "source": [
    "Lambda function to filter out all the even numbers from a list of integers."
   ]
  },
  {
   "cell_type": "code",
   "execution_count": 6,
   "id": "52c75125",
   "metadata": {},
   "outputs": [
    {
     "name": "stdout",
     "output_type": "stream",
     "text": [
      "[2, 4, 6, 8, 10]\n"
     ]
    }
   ],
   "source": [
    "num = [1, 2, 3, 4, 5, 6, 7, 8, 9, 10]\n",
    "even_numbers = list(filter(lambda x: x%2 == 0, num))\n",
    "print(even_numbers)"
   ]
  },
  {
   "cell_type": "markdown",
   "id": "0b49a7e1",
   "metadata": {},
   "source": [
    "# 9. Write a lambda function to sort a list of strings in ascending order based on the length of each string."
   ]
  },
  {
   "cell_type": "markdown",
   "id": "26fdda3a",
   "metadata": {},
   "source": [
    "Lambda function to sort a list of strings in ascending order based on the length of each string"
   ]
  },
  {
   "cell_type": "code",
   "execution_count": 7,
   "id": "8beb55a3",
   "metadata": {},
   "outputs": [
    {
     "name": "stdout",
     "output_type": "stream",
     "text": [
      "['I', 'in', 'my', 'was', 'busy', 'since', 'office', 'yesterday']\n"
     ]
    }
   ],
   "source": [
    "name_string = [\"I\", \"was\", \"busy\", \"in\", \"my\", \"office\", \"since\", \"yesterday\"]\n",
    "sorted_name_list = sorted(name_string, key=lambda x: len(x))\n",
    "print(sorted_name_list)"
   ]
  },
  {
   "cell_type": "markdown",
   "id": "8457bb70",
   "metadata": {},
   "source": [
    "# 10. Create a lambda function that takes two lists as input and returns a new list containing the common elements between the two lists."
   ]
  },
  {
   "cell_type": "markdown",
   "id": "89504ef4",
   "metadata": {},
   "source": [
    "Lambda function that takes two lists as input and returns a new list containing the common elements between the two lists"
   ]
  },
  {
   "cell_type": "code",
   "execution_count": 8,
   "id": "ce29e43b",
   "metadata": {},
   "outputs": [
    {
     "name": "stdout",
     "output_type": "stream",
     "text": [
      "[1, 2, 8, 9]\n"
     ]
    }
   ],
   "source": [
    "array_nums1 = [1, 2, 3, 5, 7, 8, 9, 10]\n",
    "array_nums2 = [1, 2, 4, 8, 9]\n",
    "result = list(filter(lambda x: x in array_nums1, array_nums2)) \n",
    "print(result)"
   ]
  },
  {
   "cell_type": "markdown",
   "id": "e1885315",
   "metadata": {},
   "source": [
    "# 11. Write a recursive function to calculate the factorial of a given positive integer."
   ]
  },
  {
   "cell_type": "markdown",
   "id": "5a0a5c53",
   "metadata": {},
   "source": [
    "Recursive function to calculate the factorial of a given positive integer."
   ]
  },
  {
   "cell_type": "code",
   "execution_count": 9,
   "id": "a75815a0",
   "metadata": {},
   "outputs": [
    {
     "name": "stdout",
     "output_type": "stream",
     "text": [
      "Enter Number : 5\n"
     ]
    },
    {
     "data": {
      "text/plain": [
       "120"
      ]
     },
     "execution_count": 9,
     "metadata": {},
     "output_type": "execute_result"
    }
   ],
   "source": [
    "def recur_factorial(n):  \n",
    "    if n == 1:  \n",
    "        return n\n",
    "    elif n < 0:\n",
    "        print(\"Sorry, factorial does not exist for negative numbers\")\n",
    "    else:  \n",
    "        return n * recur_factorial(n-1)\n",
    "recur_factorial(int(input(\"Enter Number : \")))"
   ]
  },
  {
   "cell_type": "markdown",
   "id": "153eb4d5",
   "metadata": {},
   "source": [
    "# 12. Implement a recursive function to compute the nth Fibonacci number."
   ]
  },
  {
   "cell_type": "markdown",
   "id": "4c6bc681",
   "metadata": {},
   "source": [
    "Recursive function to compute the nth Fibonacci number"
   ]
  },
  {
   "cell_type": "code",
   "execution_count": 10,
   "id": "10a56158",
   "metadata": {},
   "outputs": [
    {
     "name": "stdout",
     "output_type": "stream",
     "text": [
      "Enter Number : 10\n"
     ]
    },
    {
     "data": {
      "text/plain": [
       "55"
      ]
     },
     "execution_count": 10,
     "metadata": {},
     "output_type": "execute_result"
    }
   ],
   "source": [
    "def fibonacci(n):\n",
    "    if n <= 1:\n",
    "        return n \n",
    "    else:\n",
    "        return fibonacci(n-1) + fibonacci(n-2)\n",
    "fibonacci(int(input(\"Enter Number : \")))"
   ]
  },
  {
   "cell_type": "markdown",
   "id": "af2499f7",
   "metadata": {},
   "source": [
    "# 13. Create a recursive function to find the sum of all the elements in a given list."
   ]
  },
  {
   "cell_type": "markdown",
   "id": "38395db2",
   "metadata": {},
   "source": [
    "Recursive function to find the sum of all the elements of a given list."
   ]
  },
  {
   "cell_type": "code",
   "execution_count": 11,
   "id": "491ccdaf",
   "metadata": {},
   "outputs": [
    {
     "data": {
      "text/plain": [
       "15"
      ]
     },
     "execution_count": 11,
     "metadata": {},
     "output_type": "execute_result"
    }
   ],
   "source": [
    "def findSum(list1): \n",
    "     if len(list1)== 1: \n",
    "        return list1[0] \n",
    "     else: \n",
    "        return list1[0]+findSum(list1[1:]) \n",
    "findSum([1, 2, 3, 4, 5])\n",
    "15"
   ]
  },
  {
   "cell_type": "markdown",
   "id": "eb548083",
   "metadata": {},
   "source": [
    "# 14. Write a recursive function to determine whether a given string is a palindrome."
   ]
  },
  {
   "cell_type": "markdown",
   "id": "aa177309",
   "metadata": {},
   "source": [
    "Recursive function to check whether a given string is a palindrome"
   ]
  },
  {
   "cell_type": "code",
   "execution_count": 26,
   "id": "b4a4a7b6",
   "metadata": {},
   "outputs": [
    {
     "name": "stdout",
     "output_type": "stream",
     "text": [
      "Enter String : sakshi\n",
      "The string is not a palindrome\n"
     ]
    }
   ],
   "source": [
    "def palindrome_or_not(input_str):\n",
    "    if len(input_str) < 1:\n",
    "        return True\n",
    "    else:\n",
    "        if input_str[0] == input_str[-1]:\n",
    "            return palindrome_or_not(input_str[1:-1])\n",
    "        else:\n",
    "            return False\n",
    "inp_str = input(\"Enter String : \")\n",
    "\n",
    "if(palindrome_or_not(inp_str)==True):\n",
    "    print(\"The string is a palindrome\")\n",
    "else:\n",
    "    print(\"The string is not a palindrome\")"
   ]
  },
  {
   "cell_type": "markdown",
   "id": "778b308d",
   "metadata": {},
   "source": [
    "# 15. Implement a recursive function to find the greatest common divisor (GCD) of two positive integers."
   ]
  },
  {
   "cell_type": "markdown",
   "id": "744348a4",
   "metadata": {},
   "source": [
    "Recursive function to find the greatest common divisor (GCD) of two positive integers"
   ]
  },
  {
   "cell_type": "code",
   "execution_count": 23,
   "id": "2dfa3697",
   "metadata": {},
   "outputs": [
    {
     "data": {
      "text/plain": [
       "25"
      ]
     },
     "execution_count": 23,
     "metadata": {},
     "output_type": "execute_result"
    }
   ],
   "source": [
    "def GCD(a, b):\n",
    "    if a == b:\n",
    "        return a\n",
    "    elif a < b:\n",
    "        return GCD(b, a)\n",
    "    else:\n",
    "        return GCD(b, a - b) \n",
    "GCD(75, 25)"
   ]
  }
 ],
 "metadata": {
  "kernelspec": {
   "display_name": "Python 3 (ipykernel)",
   "language": "python",
   "name": "python3"
  },
  "language_info": {
   "codemirror_mode": {
    "name": "ipython",
    "version": 3
   },
   "file_extension": ".py",
   "mimetype": "text/x-python",
   "name": "python",
   "nbconvert_exporter": "python",
   "pygments_lexer": "ipython3",
   "version": "3.10.9"
  }
 },
 "nbformat": 4,
 "nbformat_minor": 5
}
