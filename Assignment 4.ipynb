{
 "cells": [
  {
   "cell_type": "markdown",
   "id": "27138ff1",
   "metadata": {},
   "source": [
    "# Python Assignment 4"
   ]
  },
  {
   "cell_type": "markdown",
   "id": "0a720550",
   "metadata": {},
   "source": [
    "# 1. What exactly is []?"
   ]
  },
  {
   "cell_type": "markdown",
   "id": "cd72d30e",
   "metadata": {},
   "source": [
    "The empty list represented by [] is a list that contains no items. This is similar to '' which represents an empty string."
   ]
  },
  {
   "cell_type": "markdown",
   "id": "32a5bce9",
   "metadata": {},
   "source": [
    "# 2. In a list of values stored in a variable called spam, how would you assign the value &#39;hello&#39; as the third value? (Assume [2, 4, 6, 8, 10] are in spam.)"
   ]
  },
  {
   "cell_type": "code",
   "execution_count": 4,
   "id": "555532f1",
   "metadata": {},
   "outputs": [
    {
     "name": "stdout",
     "output_type": "stream",
     "text": [
      "[2, 4, 'hello', 8, 10]\n"
     ]
    }
   ],
   "source": [
    "spam = [2, 4, 6, 8, 10]\n",
    "spam[2] = 'hello'\n",
    "print(spam)"
   ]
  },
  {
   "cell_type": "markdown",
   "id": "513f01e3",
   "metadata": {},
   "source": [
    "# Let us pretend the spam includes the list ['a','b','c','d'] for the next three queries. "
   ]
  },
  {
   "cell_type": "markdown",
   "id": "3d327351",
   "metadata": {},
   "source": [
    "# 3. What is the value of spam[int(int('3'*2) / 11)]?"
   ]
  },
  {
   "cell_type": "code",
   "execution_count": 8,
   "id": "f8a38664",
   "metadata": {},
   "outputs": [
    {
     "name": "stdout",
     "output_type": "stream",
     "text": [
      "d\n"
     ]
    }
   ],
   "source": [
    "spam = ['a', 'b', 'c', 'd']\n",
    "\n",
    "print(spam[int(int('3'*2)/11)])\n",
    "\n",
    "#'d' (Note that '3' * 2 is the string '33', which is passed to int() before being divided by 11. \n",
    "#This eventually evaluates to 3, spam[3] is equal to d."
   ]
  },
  {
   "cell_type": "markdown",
   "id": "c3fbef1a",
   "metadata": {},
   "source": [
    "# 4. What is the value of spam[-1]?"
   ]
  },
  {
   "cell_type": "code",
   "execution_count": 10,
   "id": "ac405e41",
   "metadata": {},
   "outputs": [
    {
     "name": "stdout",
     "output_type": "stream",
     "text": [
      "d\n"
     ]
    }
   ],
   "source": [
    "spam = ['a', 'b', 'c', 'd']\n",
    "print(spam[-1])\n",
    "\n",
    "#'d' (Lists support Negative indexing, Hence spam[-1] returs 'd'"
   ]
  },
  {
   "cell_type": "markdown",
   "id": "464c2e10",
   "metadata": {},
   "source": [
    "# 5. What is the value of spam[:2]?"
   ]
  },
  {
   "cell_type": "code",
   "execution_count": 12,
   "id": "c2e91863",
   "metadata": {},
   "outputs": [
    {
     "name": "stdout",
     "output_type": "stream",
     "text": [
      "['a', 'b']\n"
     ]
    }
   ],
   "source": [
    "spam = ['a', 'b', 'c', 'd']\n",
    "\n",
    "print(spam[:2])\n",
    "\n",
    "#spam[:2] returns all elements in the list spam from 0 to 2 excluding 2"
   ]
  },
  {
   "cell_type": "markdown",
   "id": "175fb0ec",
   "metadata": {},
   "source": [
    "# Let us pretend bacon has the list [3.14, 'cat',11,'cat', True] for the next three questions.\n"
   ]
  },
  {
   "cell_type": "markdown",
   "id": "d138670d",
   "metadata": {},
   "source": [
    "# 6. What is the value of bacon.index('cat')?"
   ]
  },
  {
   "cell_type": "code",
   "execution_count": 20,
   "id": "cf3399d8",
   "metadata": {},
   "outputs": [
    {
     "name": "stdout",
     "output_type": "stream",
     "text": [
      "1\n"
     ]
    }
   ],
   "source": [
    "bacon = [3.14,'cat', 11, 'cat', True]\n",
    "\n",
    "print(bacon.index('cat'))\n",
    "\n",
    "#The value of bacon.index('cat') is 1"
   ]
  },
  {
   "cell_type": "markdown",
   "id": "ec8575ab",
   "metadata": {},
   "source": [
    "# 7. How does bacon.append(99) change the look of the list value in bacon?"
   ]
  },
  {
   "cell_type": "code",
   "execution_count": 23,
   "id": "29042153",
   "metadata": {},
   "outputs": [
    {
     "name": "stdout",
     "output_type": "stream",
     "text": [
      "[3.14, 'cat', 11, 'cat', True, 99]\n"
     ]
    }
   ],
   "source": [
    "bacon = [3.14,'cat', 11, 'cat', True]\n",
    "bacon.append(99)\n",
    "print(bacon)\n",
    "\n",
    "#The append method adds new elements to the end of the list"
   ]
  },
  {
   "cell_type": "markdown",
   "id": "dddc1bf3",
   "metadata": {},
   "source": [
    "# 8. How does bacon.remove(&#39;cat&#39;) change the look of the list in bacon?"
   ]
  },
  {
   "cell_type": "code",
   "execution_count": 27,
   "id": "c4f8ec0b",
   "metadata": {},
   "outputs": [
    {
     "name": "stdout",
     "output_type": "stream",
     "text": [
      "[3.14, 11, 'cat', True]\n"
     ]
    }
   ],
   "source": [
    "bacon = [3.14,'cat', 11, 'cat', True]\n",
    "\n",
    "(bacon.remove('cat'))\n",
    "print(bacon)\n",
    "\n",
    "#The remove method removes the first occurence of the element in the list"
   ]
  },
  {
   "cell_type": "markdown",
   "id": "6448e98f",
   "metadata": {},
   "source": [
    "# 9. What are the list concatenation and list replication operators?"
   ]
  },
  {
   "cell_type": "markdown",
   "id": "92ea32d5",
   "metadata": {},
   "source": [
    "The operator for list concatenation is +, while the operator for replication is *. This is the same as for strings."
   ]
  },
  {
   "cell_type": "code",
   "execution_count": 28,
   "id": "943af781",
   "metadata": {},
   "outputs": [
    {
     "name": "stdout",
     "output_type": "stream",
     "text": [
      "[1, 2, 3, 'sakshi', 'priyanka', 'rohini']\n",
      "['sakshi', 'priyanka', 'rohini', 'sakshi', 'priyanka', 'rohini']\n"
     ]
    }
   ],
   "source": [
    "list1 = [1, 2, 3]\n",
    "list2 = ['sakshi', 'priyanka', 'rohini']\n",
    "print(list1 + list2)  # List Concatenation\n",
    "print(list2*2)        # List Replication"
   ]
  },
  {
   "cell_type": "markdown",
   "id": "7d59c79f",
   "metadata": {},
   "source": [
    "# 10. What is difference between the list methods append() and insert()?"
   ]
  },
  {
   "cell_type": "markdown",
   "id": "d398c908",
   "metadata": {},
   "source": [
    "append() will add values only to the end of a list, and insert() can add them anywhere in the list."
   ]
  },
  {
   "cell_type": "code",
   "execution_count": 34,
   "id": "84c1ae24",
   "metadata": {},
   "outputs": [
    {
     "name": "stdout",
     "output_type": "stream",
     "text": [
      "[1, 2, 3, 4, 6]\n"
     ]
    }
   ],
   "source": [
    "list = [1, 2, 3, 4]\n",
    "list.append(6)\n",
    "print(list)"
   ]
  },
  {
   "cell_type": "code",
   "execution_count": 35,
   "id": "8c86e624",
   "metadata": {},
   "outputs": [
    {
     "name": "stdout",
     "output_type": "stream",
     "text": [
      "[1, 'sakshi', 2, 3, 4]\n"
     ]
    }
   ],
   "source": [
    "list = [1, 2, 3, 4]\n",
    "list.insert(1, 'sakshi')\n",
    "print(list)"
   ]
  },
  {
   "cell_type": "markdown",
   "id": "91f86cfb",
   "metadata": {},
   "source": [
    "# 11. What are the two methods for removing items from a list?"
   ]
  },
  {
   "cell_type": "markdown",
   "id": "9dcb6b8a",
   "metadata": {},
   "source": [
    "1] The remove() method removes the first matching element (which is passed as an argument) from the list. \n",
    "\n",
    "2] The pop() method removes an element at a given index.\n",
    "\n",
    "3] You can also use the del keyword in Python to remove an element from a list."
   ]
  },
  {
   "cell_type": "markdown",
   "id": "757b4dad",
   "metadata": {},
   "source": [
    "# 12. Describe how list values and string values are identical."
   ]
  },
  {
   "cell_type": "markdown",
   "id": "cac5b0b7",
   "metadata": {},
   "source": [
    "Both lists and strings can be passed to len() function, have indexes and slices, be used in for loops, be concatenated or replicated, and be used with the in and not in operators."
   ]
  },
  {
   "cell_type": "markdown",
   "id": "fe5eea60",
   "metadata": {},
   "source": [
    "# 13. Whats the difference between tuples and lists?"
   ]
  },
  {
   "cell_type": "markdown",
   "id": "cbe46ae0",
   "metadata": {},
   "source": [
    "1] Lists are mutable, as their elements can be modified, added, or removed. \n",
    "Tuples are immutable, and their elements cannot be changed once defined.\n",
    "\n",
    "\n",
    "2] Lists are enclosed in square brackets [ ], while tuples use ().\n",
    "\n"
   ]
  },
  {
   "cell_type": "markdown",
   "id": "4e33516b",
   "metadata": {},
   "source": [
    "# 14. How do you type a tuple value that only contains the integer 42?"
   ]
  },
  {
   "cell_type": "markdown",
   "id": "f7db3723",
   "metadata": {},
   "source": [
    "The comma at the end is necessary to distinguish it as a tuple with a single element rather than just the integer 42."
   ]
  },
  {
   "cell_type": "code",
   "execution_count": 36,
   "id": "0fb4c61a",
   "metadata": {},
   "outputs": [
    {
     "name": "stdout",
     "output_type": "stream",
     "text": [
      "<class 'int'>\n",
      "<class 'tuple'>\n"
     ]
    }
   ],
   "source": [
    "tup1 = (42)\n",
    "tup2 = (42,)\n",
    "\n",
    "print(type(tup1))\n",
    "\n",
    "print(type(tup2))"
   ]
  },
  {
   "cell_type": "markdown",
   "id": "b25529f1",
   "metadata": {},
   "source": [
    "# 15. How do you get a list value&#39;s tuple form? How do you get a tuple value&#39;s list form?"
   ]
  },
  {
   "cell_type": "markdown",
   "id": "e29b3401",
   "metadata": {},
   "source": [
    "The tuple() and list() functions, respectively are used to convert a list to tuple and vice versa"
   ]
  },
  {
   "cell_type": "markdown",
   "id": "899155c5",
   "metadata": {},
   "source": [
    "To convert a list to a tuple: my_tuple = tuple(my_list)\n",
    "\n",
    "To convert a tuple to a list: my_list = list(my_tuple)"
   ]
  },
  {
   "cell_type": "markdown",
   "id": "fbb0431d",
   "metadata": {},
   "source": [
    "# 16. Variables that &quot;contain&quot; list values are not necessarily lists themselves. Instead, what do they contain?"
   ]
  },
  {
   "cell_type": "code",
   "execution_count": null,
   "id": "5b49a4dd",
   "metadata": {},
   "outputs": [],
   "source": [
    "They contain references to list values."
   ]
  },
  {
   "cell_type": "markdown",
   "id": "e94758b6",
   "metadata": {},
   "source": [
    "# 17. How do you distinguish between copy.copy() and copy.deepcopy()?"
   ]
  },
  {
   "cell_type": "markdown",
   "id": "5b9d1cf5",
   "metadata": {},
   "source": [
    "The copy.copy() function will do a shallow copy of a list, while the copy.deepcopy() function will do a deep copy of a list. That is, only copy.deepcopy() will duplicate any lists inside the list."
   ]
  }
 ],
 "metadata": {
  "kernelspec": {
   "display_name": "Python 3 (ipykernel)",
   "language": "python",
   "name": "python3"
  },
  "language_info": {
   "codemirror_mode": {
    "name": "ipython",
    "version": 3
   },
   "file_extension": ".py",
   "mimetype": "text/x-python",
   "name": "python",
   "nbconvert_exporter": "python",
   "pygments_lexer": "ipython3",
   "version": "3.10.9"
  }
 },
 "nbformat": 4,
 "nbformat_minor": 5
}
